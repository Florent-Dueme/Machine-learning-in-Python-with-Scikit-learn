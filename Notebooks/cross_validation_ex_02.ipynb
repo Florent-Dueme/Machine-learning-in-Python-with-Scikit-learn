{
 "cells": [
  {
   "cell_type": "markdown",
   "id": "84ee2d98",
   "metadata": {},
   "source": [
    "# 📝 Exercise M7.01\n",
    "\n",
    "In this exercise we will define dummy classification baselines and use them\n",
    "as reference to assess the relative predictive performance of a given model\n",
    "of interest.\n",
    "\n",
    "We illustrate those baselines with the help of the Adult Census dataset,\n",
    "using only the numerical features for the sake of simplicity."
   ]
  },
  {
   "cell_type": "code",
   "execution_count": 2,
   "id": "9b94d0de",
   "metadata": {},
   "outputs": [],
   "source": [
    "import pandas as pd\n",
    "\n",
    "adult_census = pd.read_csv(\"../datasets/adult-census-numeric-all.csv\")\n",
    "data, target = adult_census.drop(columns=\"class\"), adult_census[\"class\"]"
   ]
  },
  {
   "cell_type": "markdown",
   "id": "c4290e2a",
   "metadata": {},
   "source": [
    "First, define a `ShuffleSplit` cross-validation strategy taking half of the\n",
    "samples as a testing at each round. Let us use 10 cross-validation rounds."
   ]
  },
  {
   "cell_type": "code",
   "execution_count": 5,
   "id": "b656f423",
   "metadata": {},
   "outputs": [],
   "source": [
    "from sklearn.model_selection import ShuffleSplit\n",
    "\n",
    "cv = ShuffleSplit(n_splits=10, test_size=0.5, random_state=0)"
   ]
  },
  {
   "cell_type": "markdown",
   "id": "84764ef3",
   "metadata": {},
   "source": [
    "Next, create a machine learning pipeline composed of a transformer to\n",
    "standardize the data followed by a logistic regression classifier."
   ]
  },
  {
   "cell_type": "code",
   "execution_count": 6,
   "id": "3b86cc86",
   "metadata": {},
   "outputs": [],
   "source": [
    "from sklearn.pipeline import Pipeline\n",
    "from sklearn.preprocessing import StandardScaler\n",
    "from sklearn.linear_model import LogisticRegression\n",
    "\n",
    "pipe = Pipeline([('scaler', StandardScaler()), ('LogRec', LogisticRegression())])"
   ]
  },
  {
   "cell_type": "markdown",
   "id": "2b8d09a2",
   "metadata": {},
   "source": [
    "Compute the cross-validation (test) scores for the classifier on this\n",
    "dataset. Store the results pandas Series as we did in the previous notebook."
   ]
  },
  {
   "cell_type": "code",
   "execution_count": 13,
   "id": "0f461667",
   "metadata": {},
   "outputs": [
    {
     "data": {
      "text/plain": [
       "0    0.815937\n",
       "1    0.813849\n",
       "2    0.815036\n",
       "3    0.815569\n",
       "4    0.810982\n",
       "5    0.814709\n",
       "6    0.813112\n",
       "7    0.810327\n",
       "8    0.812416\n",
       "9    0.816388\n",
       "Name: Logistic regression, dtype: float64"
      ]
     },
     "execution_count": 13,
     "metadata": {},
     "output_type": "execute_result"
    }
   ],
   "source": [
    "from sklearn.model_selection import cross_validate\n",
    "\n",
    "cv_results_LogRec = cross_validate(\n",
    "    pipe, data, target, cv=cv, n_jobs=2\n",
    ")\n",
    "\n",
    "LogRec_classifier = pd.Series(\n",
    "    cv_results_LogRec[\"test_score\"], name=\"Logistic regression\"\n",
    ")\n",
    "LogRec_classifier"
   ]
  },
  {
   "cell_type": "markdown",
   "id": "1932966e",
   "metadata": {},
   "source": [
    "Now, compute the cross-validation scores of a dummy classifier that\n",
    "constantly predicts the most frequent class observed the training set. Please\n",
    "refer to the online documentation for the [sklearn.dummy.DummyClassifier\n",
    "](https://scikit-learn.org/stable/modules/generated/sklearn.dummy.DummyClassifier.html)\n",
    "class.\n",
    "\n",
    "Store the results in a second pandas Series."
   ]
  },
  {
   "cell_type": "code",
   "execution_count": 14,
   "id": "2d62ac1a",
   "metadata": {},
   "outputs": [
    {
     "data": {
      "text/plain": [
       "0    0.760329\n",
       "1    0.756808\n",
       "2    0.759142\n",
       "3    0.760739\n",
       "4    0.761681\n",
       "5    0.761885\n",
       "6    0.757463\n",
       "7    0.757176\n",
       "8    0.761885\n",
       "9    0.763114\n",
       "Name: Dummy regression, dtype: float64"
      ]
     },
     "execution_count": 14,
     "metadata": {},
     "output_type": "execute_result"
    }
   ],
   "source": [
    "from sklearn.dummy import DummyClassifier\n",
    "\n",
    "dummy = DummyClassifier(strategy=\"most_frequent\")\n",
    "\n",
    "cv_results_dummy = cross_validate(\n",
    "    dummy, data, target, cv=cv, n_jobs=2\n",
    ")\n",
    "\n",
    "dummy_classifier = pd.Series(\n",
    "    cv_results_dummy[\"test_score\"], name=\"Dummy regression\"\n",
    ")\n",
    "\n",
    "dummy_classifier"
   ]
  },
  {
   "cell_type": "markdown",
   "id": "424cfbf9",
   "metadata": {},
   "source": [
    "Now that we collected the results from the baseline and the model,\n",
    "concatenate the test scores as columns a single pandas dataframe."
   ]
  },
  {
   "cell_type": "code",
   "execution_count": 15,
   "id": "7a14d35c",
   "metadata": {},
   "outputs": [
    {
     "data": {
      "text/html": [
       "<div>\n",
       "<style scoped>\n",
       "    .dataframe tbody tr th:only-of-type {\n",
       "        vertical-align: middle;\n",
       "    }\n",
       "\n",
       "    .dataframe tbody tr th {\n",
       "        vertical-align: top;\n",
       "    }\n",
       "\n",
       "    .dataframe thead th {\n",
       "        text-align: right;\n",
       "    }\n",
       "</style>\n",
       "<table border=\"1\" class=\"dataframe\">\n",
       "  <thead>\n",
       "    <tr style=\"text-align: right;\">\n",
       "      <th></th>\n",
       "      <th>Logistic regression</th>\n",
       "      <th>Dummy regression</th>\n",
       "    </tr>\n",
       "  </thead>\n",
       "  <tbody>\n",
       "    <tr>\n",
       "      <th>0</th>\n",
       "      <td>0.815937</td>\n",
       "      <td>0.760329</td>\n",
       "    </tr>\n",
       "    <tr>\n",
       "      <th>1</th>\n",
       "      <td>0.813849</td>\n",
       "      <td>0.756808</td>\n",
       "    </tr>\n",
       "    <tr>\n",
       "      <th>2</th>\n",
       "      <td>0.815036</td>\n",
       "      <td>0.759142</td>\n",
       "    </tr>\n",
       "    <tr>\n",
       "      <th>3</th>\n",
       "      <td>0.815569</td>\n",
       "      <td>0.760739</td>\n",
       "    </tr>\n",
       "    <tr>\n",
       "      <th>4</th>\n",
       "      <td>0.810982</td>\n",
       "      <td>0.761681</td>\n",
       "    </tr>\n",
       "    <tr>\n",
       "      <th>5</th>\n",
       "      <td>0.814709</td>\n",
       "      <td>0.761885</td>\n",
       "    </tr>\n",
       "    <tr>\n",
       "      <th>6</th>\n",
       "      <td>0.813112</td>\n",
       "      <td>0.757463</td>\n",
       "    </tr>\n",
       "    <tr>\n",
       "      <th>7</th>\n",
       "      <td>0.810327</td>\n",
       "      <td>0.757176</td>\n",
       "    </tr>\n",
       "    <tr>\n",
       "      <th>8</th>\n",
       "      <td>0.812416</td>\n",
       "      <td>0.761885</td>\n",
       "    </tr>\n",
       "    <tr>\n",
       "      <th>9</th>\n",
       "      <td>0.816388</td>\n",
       "      <td>0.763114</td>\n",
       "    </tr>\n",
       "  </tbody>\n",
       "</table>\n",
       "</div>"
      ],
      "text/plain": [
       "   Logistic regression  Dummy regression\n",
       "0             0.815937          0.760329\n",
       "1             0.813849          0.756808\n",
       "2             0.815036          0.759142\n",
       "3             0.815569          0.760739\n",
       "4             0.810982          0.761681\n",
       "5             0.814709          0.761885\n",
       "6             0.813112          0.757463\n",
       "7             0.810327          0.757176\n",
       "8             0.812416          0.761885\n",
       "9             0.816388          0.763114"
      ]
     },
     "execution_count": 15,
     "metadata": {},
     "output_type": "execute_result"
    }
   ],
   "source": [
    "all_accuracy = pd.concat(\n",
    "    [LogRec_classifier, dummy_classifier],\n",
    "    axis=1,\n",
    ")\n",
    "\n",
    "all_accuracy"
   ]
  },
  {
   "cell_type": "markdown",
   "id": "364147ab",
   "metadata": {},
   "source": [
    "\n",
    "Next, plot the histogram of the cross-validation test scores for both\n",
    "models with the help of [pandas built-in plotting\n",
    "function](https://pandas.pydata.org/pandas-docs/stable/user_guide/visualization.html#histograms).\n",
    "\n",
    "What conclusions do you draw from the results?"
   ]
  },
  {
   "cell_type": "code",
   "execution_count": 21,
   "id": "58630752",
   "metadata": {},
   "outputs": [
    {
     "data": {
      "image/png": "[encoded data removed]",
      "text/plain": [
       "<Figure size 432x288 with 1 Axes>"
      ]
     },
     "metadata": {
      "needs_background": "light"
     },
     "output_type": "display_data"
    }
   ],
   "source": [
    "import matplotlib.pyplot as plt\n",
    "import numpy as np\n",
    "\n",
    "bins = np.linspace(start=.5, stop=1, num=150)\n",
    "all_accuracy.plot.hist(bins=bins)\n",
    "plt.legend(bbox_to_anchor=(1.05, 0.8), loc=\"upper left\")\n",
    "plt.xlabel(\"Mean accuracy\")\n",
    "_ = plt.title(\"Cross-validation accuracy\")"
   ]
  },
  {
   "cell_type": "markdown",
   "id": "f88857b7",
   "metadata": {},
   "source": [
    "Change the `strategy` of the dummy classifier to `\"stratified\"`, compute the\n",
    "results. Similarly compute scores for `strategy=\"uniform\"` and then the  plot\n",
    "the distribution together with the other results.\n",
    "\n",
    "Are those new baselines better than the previous one? Why is this the case?\n",
    "\n",
    "Please refer to the scikit-learn documentation on\n",
    "[sklearn.dummy.DummyClassifier](\n",
    "https://scikit-learn.org/stable/modules/generated/sklearn.dummy.DummyClassifier.html)\n",
    "to find out about the meaning of the `\"stratified\"` and `\"uniform\"`\n",
    "strategies."
   ]
  },
  {
   "cell_type": "code",
   "execution_count": 22,
   "id": "7a21b600",
   "metadata": {},
   "outputs": [
    {
     "data": {
      "text/plain": [
       "0    0.628312\n",
       "1    0.635355\n",
       "2    0.632857\n",
       "3    0.638016\n",
       "4    0.635887\n",
       "5    0.636174\n",
       "6    0.639941\n",
       "7    0.631669\n",
       "8    0.636870\n",
       "9    0.638876\n",
       "Name: Stratified dummy regression, dtype: float64"
      ]
     },
     "execution_count": 22,
     "metadata": {},
     "output_type": "execute_result"
    }
   ],
   "source": [
    "dummy_strat = DummyClassifier(strategy=\"stratified\")\n",
    "\n",
    "cv_results_dummy_strat = cross_validate(\n",
    "    dummy_strat, data, target, cv=cv, n_jobs=2\n",
    ")\n",
    "\n",
    "dummy_strat_classifier = pd.Series(\n",
    "    cv_results_dummy_strat[\"test_score\"], name=\"Stratified dummy regression\"\n",
    ")\n",
    "\n",
    "dummy_strat_classifier"
   ]
  },
  {
   "cell_type": "code",
   "execution_count": 23,
   "id": "5252eda1",
   "metadata": {},
   "outputs": [
    {
     "data": {
      "text/plain": [
       "0    0.492609\n",
       "1    0.499980\n",
       "2    0.496663\n",
       "3    0.502191\n",
       "4    0.500430\n",
       "5    0.499447\n",
       "6    0.498423\n",
       "7    0.497031\n",
       "8    0.497891\n",
       "9    0.498833\n",
       "Name: Unified dummy regression, dtype: float64"
      ]
     },
     "execution_count": 23,
     "metadata": {},
     "output_type": "execute_result"
    }
   ],
   "source": [
    "dummy_uni = DummyClassifier(strategy=\"uniform\")\n",
    "\n",
    "cv_results_dummy_uni = cross_validate(\n",
    "    dummy_uni, data, target, cv=cv, n_jobs=2\n",
    ")\n",
    "\n",
    "dummy_uni_classifier = pd.Series(\n",
    "    cv_results_dummy_uni[\"test_score\"], name=\"Unified dummy regression\"\n",
    ")\n",
    "\n",
    "dummy_uni_classifier"
   ]
  },
  {
   "cell_type": "code",
   "execution_count": 24,
   "id": "674464f0",
   "metadata": {},
   "outputs": [
    {
     "data": {
      "text/html": [
       "<div>\n",
       "<style scoped>\n",
       "    .dataframe tbody tr th:only-of-type {\n",
       "        vertical-align: middle;\n",
       "    }\n",
       "\n",
       "    .dataframe tbody tr th {\n",
       "        vertical-align: top;\n",
       "    }\n",
       "\n",
       "    .dataframe thead th {\n",
       "        text-align: right;\n",
       "    }\n",
       "</style>\n",
       "<table border=\"1\" class=\"dataframe\">\n",
       "  <thead>\n",
       "    <tr style=\"text-align: right;\">\n",
       "      <th></th>\n",
       "      <th>Logistic regression</th>\n",
       "      <th>Dummy regression</th>\n",
       "      <th>Stratified dummy regression</th>\n",
       "      <th>Unified dummy regression</th>\n",
       "    </tr>\n",
       "  </thead>\n",
       "  <tbody>\n",
       "    <tr>\n",
       "      <th>0</th>\n",
       "      <td>0.815937</td>\n",
       "      <td>0.760329</td>\n",
       "      <td>0.628312</td>\n",
       "      <td>0.492609</td>\n",
       "    </tr>\n",
       "    <tr>\n",
       "      <th>1</th>\n",
       "      <td>0.813849</td>\n",
       "      <td>0.756808</td>\n",
       "      <td>0.635355</td>\n",
       "      <td>0.499980</td>\n",
       "    </tr>\n",
       "    <tr>\n",
       "      <th>2</th>\n",
       "      <td>0.815036</td>\n",
       "      <td>0.759142</td>\n",
       "      <td>0.632857</td>\n",
       "      <td>0.496663</td>\n",
       "    </tr>\n",
       "    <tr>\n",
       "      <th>3</th>\n",
       "      <td>0.815569</td>\n",
       "      <td>0.760739</td>\n",
       "      <td>0.638016</td>\n",
       "      <td>0.502191</td>\n",
       "    </tr>\n",
       "    <tr>\n",
       "      <th>4</th>\n",
       "      <td>0.810982</td>\n",
       "      <td>0.761681</td>\n",
       "      <td>0.635887</td>\n",
       "      <td>0.500430</td>\n",
       "    </tr>\n",
       "    <tr>\n",
       "      <th>5</th>\n",
       "      <td>0.814709</td>\n",
       "      <td>0.761885</td>\n",
       "      <td>0.636174</td>\n",
       "      <td>0.499447</td>\n",
       "    </tr>\n",
       "    <tr>\n",
       "      <th>6</th>\n",
       "      <td>0.813112</td>\n",
       "      <td>0.757463</td>\n",
       "      <td>0.639941</td>\n",
       "      <td>0.498423</td>\n",
       "    </tr>\n",
       "    <tr>\n",
       "      <th>7</th>\n",
       "      <td>0.810327</td>\n",
       "      <td>0.757176</td>\n",
       "      <td>0.631669</td>\n",
       "      <td>0.497031</td>\n",
       "    </tr>\n",
       "    <tr>\n",
       "      <th>8</th>\n",
       "      <td>0.812416</td>\n",
       "      <td>0.761885</td>\n",
       "      <td>0.636870</td>\n",
       "      <td>0.497891</td>\n",
       "    </tr>\n",
       "    <tr>\n",
       "      <th>9</th>\n",
       "      <td>0.816388</td>\n",
       "      <td>0.763114</td>\n",
       "      <td>0.638876</td>\n",
       "      <td>0.498833</td>\n",
       "    </tr>\n",
       "  </tbody>\n",
       "</table>\n",
       "</div>"
      ],
      "text/plain": [
       "   Logistic regression  Dummy regression  Stratified dummy regression  \\\n",
       "0             0.815937          0.760329                     0.628312   \n",
       "1             0.813849          0.756808                     0.635355   \n",
       "2             0.815036          0.759142                     0.632857   \n",
       "3             0.815569          0.760739                     0.638016   \n",
       "4             0.810982          0.761681                     0.635887   \n",
       "5             0.814709          0.761885                     0.636174   \n",
       "6             0.813112          0.757463                     0.639941   \n",
       "7             0.810327          0.757176                     0.631669   \n",
       "8             0.812416          0.761885                     0.636870   \n",
       "9             0.816388          0.763114                     0.638876   \n",
       "\n",
       "   Unified dummy regression  \n",
       "0                  0.492609  \n",
       "1                  0.499980  \n",
       "2                  0.496663  \n",
       "3                  0.502191  \n",
       "4                  0.500430  \n",
       "5                  0.499447  \n",
       "6                  0.498423  \n",
       "7                  0.497031  \n",
       "8                  0.497891  \n",
       "9                  0.498833  "
      ]
     },
     "execution_count": 24,
     "metadata": {},
     "output_type": "execute_result"
    }
   ],
   "source": [
    "all_accuracy = pd.concat(\n",
    "    [LogRec_classifier, dummy_classifier, \n",
    "     dummy_strat_classifier, dummy_uni_classifier],\n",
    "    axis=1,\n",
    ")\n",
    "\n",
    "all_accuracy"
   ]
  },
  {
   "cell_type": "code",
   "execution_count": 25,
   "id": "bf2bcc44",
   "metadata": {},
   "outputs": [
    {
     "data": {
      "image/png": "[encoded data removed]",
      "text/plain": [
       "<Figure size 432x288 with 1 Axes>"
      ]
     },
     "metadata": {
      "needs_background": "light"
     },
     "output_type": "display_data"
    }
   ],
   "source": [
    "bins = np.linspace(start=.45, stop=1, num=150)\n",
    "all_accuracy.plot.hist(bins=bins)\n",
    "plt.legend(bbox_to_anchor=(1.05, 0.8), loc=\"upper left\")\n",
    "plt.xlabel(\"Mean accuracy\")\n",
    "_ = plt.title(\"Cross-validation accuracy\")"
   ]
  },
  {
   "cell_type": "code",
   "execution_count": null,
   "id": "d5b43be0",
   "metadata": {},
   "outputs": [],
   "source": []
  }
 ],
 "metadata": {
  "jupytext": {
   "encoding": "# -*- coding: utf-8 -*-",
   "main_language": "python"
  },
  "kernelspec": {
   "display_name": "Python 3 (ipykernel)",
   "language": "python",
   "name": "python3"
  },
  "language_info": {
   "codemirror_mode": {
    "name": "ipython",
    "version": 3
   },
   "file_extension": ".py",
   "mimetype": "text/x-python",
   "name": "python",
   "nbconvert_exporter": "python",
   "pygments_lexer": "ipython3",
   "version": "3.9.10"
  },
  "nbreset": "https://raw.githubusercontent.com/INRIA/scikit-learn-mooc/main/notebooks/cross_validation_ex_02.ipynb"
 },
 "nbformat": 4,
 "nbformat_minor": 5
}
