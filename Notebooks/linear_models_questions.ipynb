{
 "cells": [
  {
   "cell_type": "code",
   "execution_count": 1,
   "metadata": {},
   "outputs": [],
   "source": [
    "import pandas as pd\n",
    "\n",
    "ames_housing = pd.read_csv(\"../datasets/ames_housing_no_missing.csv\")\n",
    "target_name = \"SalePrice\"\n",
    "data = ames_housing.drop(columns=target_name)\n",
    "target = ames_housing[target_name]"
   ]
  },
  {
   "cell_type": "code",
   "execution_count": 2,
   "metadata": {},
   "outputs": [],
   "source": [
    "numerical_features = [\n",
    "    \"LotFrontage\", \"LotArea\", \"MasVnrArea\", \"BsmtFinSF1\", \"BsmtFinSF2\",\n",
    "    \"BsmtUnfSF\", \"TotalBsmtSF\", \"1stFlrSF\", \"2ndFlrSF\", \"LowQualFinSF\",\n",
    "    \"GrLivArea\", \"BedroomAbvGr\", \"KitchenAbvGr\", \"TotRmsAbvGrd\", \"Fireplaces\",\n",
    "    \"GarageCars\", \"GarageArea\", \"WoodDeckSF\", \"OpenPorchSF\", \"EnclosedPorch\",\n",
    "    \"3SsnPorch\", \"ScreenPorch\", \"PoolArea\", \"MiscVal\",\n",
    "]\n",
    "\n",
    "data_numerical = data[numerical_features]"
   ]
  },
  {
   "cell_type": "code",
   "execution_count": 3,
   "metadata": {},
   "outputs": [],
   "source": [
    "import pandas as pd\n",
    "from sklearn.preprocessing import StandardScaler\n",
    "from sklearn.pipeline import Pipeline\n",
    "from sklearn.linear_model import Ridge\n",
    "# Ridge?\n",
    "\n",
    "pipeline = Pipeline(steps=[('scaler', StandardScaler()), ('ridge', Ridge())])\n"
   ]
  },
  {
   "cell_type": "code",
   "execution_count": 4,
   "metadata": {},
   "outputs": [],
   "source": [
    "from sklearn.model_selection import cross_validate\n",
    "# cross_validate?\n",
    "\n",
    "pipeline.set_params(ridge__alpha=1)\n",
    "\n",
    "cv_results = cross_validate(pipeline, data_numerical, target, \n",
    "                            cv=10, return_estimator=True)\n",
    "\n",
    "results = pd.DataFrame(cv_results)"
   ]
  },
  {
   "cell_type": "code",
   "execution_count": 5,
   "metadata": {},
   "outputs": [],
   "source": [
    "# Pipeline?\n",
    "# pipeline.get_params()"
   ]
  },
  {
   "cell_type": "code",
   "execution_count": 6,
   "metadata": {},
   "outputs": [
    {
     "data": {
      "text/html": [
       "<div>\n",
       "<style scoped>\n",
       "    .dataframe tbody tr th:only-of-type {\n",
       "        vertical-align: middle;\n",
       "    }\n",
       "\n",
       "    .dataframe tbody tr th {\n",
       "        vertical-align: top;\n",
       "    }\n",
       "\n",
       "    .dataframe thead th {\n",
       "        text-align: right;\n",
       "    }\n",
       "</style>\n",
       "<table border=\"1\" class=\"dataframe\">\n",
       "  <thead>\n",
       "    <tr style=\"text-align: right;\">\n",
       "      <th></th>\n",
       "      <th>fit_time</th>\n",
       "      <th>score_time</th>\n",
       "      <th>estimator</th>\n",
       "      <th>test_score</th>\n",
       "    </tr>\n",
       "  </thead>\n",
       "  <tbody>\n",
       "    <tr>\n",
       "      <th>0</th>\n",
       "      <td>0.007078</td>\n",
       "      <td>0.001905</td>\n",
       "      <td>(StandardScaler(), Ridge(alpha=1))</td>\n",
       "      <td>0.761415</td>\n",
       "    </tr>\n",
       "    <tr>\n",
       "      <th>1</th>\n",
       "      <td>0.004639</td>\n",
       "      <td>0.002015</td>\n",
       "      <td>(StandardScaler(), Ridge(alpha=1))</td>\n",
       "      <td>0.806418</td>\n",
       "    </tr>\n",
       "    <tr>\n",
       "      <th>2</th>\n",
       "      <td>0.005490</td>\n",
       "      <td>0.002182</td>\n",
       "      <td>(StandardScaler(), Ridge(alpha=1))</td>\n",
       "      <td>0.811895</td>\n",
       "    </tr>\n",
       "    <tr>\n",
       "      <th>3</th>\n",
       "      <td>0.004594</td>\n",
       "      <td>0.001772</td>\n",
       "      <td>(StandardScaler(), Ridge(alpha=1))</td>\n",
       "      <td>0.666047</td>\n",
       "    </tr>\n",
       "    <tr>\n",
       "      <th>4</th>\n",
       "      <td>0.004475</td>\n",
       "      <td>0.001764</td>\n",
       "      <td>(StandardScaler(), Ridge(alpha=1))</td>\n",
       "      <td>0.799548</td>\n",
       "    </tr>\n",
       "    <tr>\n",
       "      <th>5</th>\n",
       "      <td>0.004323</td>\n",
       "      <td>0.001864</td>\n",
       "      <td>(StandardScaler(), Ridge(alpha=1))</td>\n",
       "      <td>0.768840</td>\n",
       "    </tr>\n",
       "    <tr>\n",
       "      <th>6</th>\n",
       "      <td>0.004641</td>\n",
       "      <td>0.001745</td>\n",
       "      <td>(StandardScaler(), Ridge(alpha=1))</td>\n",
       "      <td>0.756386</td>\n",
       "    </tr>\n",
       "    <tr>\n",
       "      <th>7</th>\n",
       "      <td>0.004411</td>\n",
       "      <td>0.001869</td>\n",
       "      <td>(StandardScaler(), Ridge(alpha=1))</td>\n",
       "      <td>0.718204</td>\n",
       "    </tr>\n",
       "    <tr>\n",
       "      <th>8</th>\n",
       "      <td>0.004377</td>\n",
       "      <td>0.001844</td>\n",
       "      <td>(StandardScaler(), Ridge(alpha=1))</td>\n",
       "      <td>0.315061</td>\n",
       "    </tr>\n",
       "    <tr>\n",
       "      <th>9</th>\n",
       "      <td>0.004628</td>\n",
       "      <td>0.001806</td>\n",
       "      <td>(StandardScaler(), Ridge(alpha=1))</td>\n",
       "      <td>0.786404</td>\n",
       "    </tr>\n",
       "  </tbody>\n",
       "</table>\n",
       "</div>"
      ],
      "text/plain": [
       "   fit_time  score_time                           estimator  test_score\n",
       "0  0.007078    0.001905  (StandardScaler(), Ridge(alpha=1))    0.761415\n",
       "1  0.004639    0.002015  (StandardScaler(), Ridge(alpha=1))    0.806418\n",
       "2  0.005490    0.002182  (StandardScaler(), Ridge(alpha=1))    0.811895\n",
       "3  0.004594    0.001772  (StandardScaler(), Ridge(alpha=1))    0.666047\n",
       "4  0.004475    0.001764  (StandardScaler(), Ridge(alpha=1))    0.799548\n",
       "5  0.004323    0.001864  (StandardScaler(), Ridge(alpha=1))    0.768840\n",
       "6  0.004641    0.001745  (StandardScaler(), Ridge(alpha=1))    0.756386\n",
       "7  0.004411    0.001869  (StandardScaler(), Ridge(alpha=1))    0.718204\n",
       "8  0.004377    0.001844  (StandardScaler(), Ridge(alpha=1))    0.315061\n",
       "9  0.004628    0.001806  (StandardScaler(), Ridge(alpha=1))    0.786404"
      ]
     },
     "execution_count": 6,
     "metadata": {},
     "output_type": "execute_result"
    }
   ],
   "source": [
    "results"
   ]
  },
  {
   "cell_type": "code",
   "execution_count": 7,
   "metadata": {},
   "outputs": [
    {
     "name": "stdout",
     "output_type": "stream",
     "text": [
      "20867.286383259503\n",
      "20329.015171924762\n",
      "19764.507912735222\n",
      "20169.5926260805\n",
      "19571.095410466438\n",
      "22562.76919825587\n",
      "20127.65597364394\n",
      "20032.645971187612\n",
      "17142.309984190524\n",
      "19144.18916886907\n"
     ]
    }
   ],
   "source": [
    "for estimator in cv_results['estimator']:\n",
    "    print(max(estimator[-1].coef_))"
   ]
  },
  {
   "cell_type": "code",
   "execution_count": 8,
   "metadata": {},
   "outputs": [],
   "source": [
    "# coefs_list = []\n",
    "# for estimator in cv_results['estimator']:\n",
    "#     for coef in estimator[-1].coef_:\n",
    "#         coefs_list.append(coef)"
   ]
  },
  {
   "cell_type": "code",
   "execution_count": 9,
   "metadata": {},
   "outputs": [],
   "source": [
    "# import matplotlib.pyplot as plt\n",
    "\n",
    "# fig1, ax1 = plt.subplots()\n",
    "# ax1.set_title(\"coefs_boxpot\")\n",
    "# ax1.boxplot(coefs_list)\n",
    "\n",
    "# plt.show()"
   ]
  },
  {
   "cell_type": "code",
   "execution_count": 10,
   "metadata": {},
   "outputs": [],
   "source": [
    "coefs_list = []\n",
    "for estimator in cv_results['estimator']:\n",
    "    coefs_list.append(estimator[-1].coef_)\n",
    "\n",
    "coefs = pd.DataFrame(coefs_list, columns=range(24))"
   ]
  },
  {
   "cell_type": "code",
   "execution_count": 11,
   "metadata": {},
   "outputs": [
    {
     "data": {
      "text/plain": [
       "<AxesSubplot:>"
      ]
     },
     "execution_count": 11,
     "metadata": {},
     "output_type": "execute_result"
    },
    {
     "data": {
      "image/png": "[encoded data removed]",
      "text/plain": [
       "<Figure size 1080x720 with 1 Axes>"
      ]
     },
     "metadata": {
      "needs_background": "light"
     },
     "output_type": "display_data"
    }
   ],
   "source": [
    "coefs.boxplot(figsize=(15,10))"
   ]
  },
  {
   "cell_type": "code",
   "execution_count": 12,
   "metadata": {},
   "outputs": [
    {
     "name": "stdout",
     "output_type": "stream",
     "text": [
      "GrLivArea\n",
      "GarageCars\n"
     ]
    }
   ],
   "source": [
    "print(numerical_features[10])\n",
    "print(numerical_features[15])"
   ]
  },
  {
   "cell_type": "code",
   "execution_count": 13,
   "metadata": {},
   "outputs": [],
   "source": [
    "new_data = data_numerical.drop(columns=\"GarageArea\")"
   ]
  },
  {
   "cell_type": "code",
   "execution_count": 14,
   "metadata": {},
   "outputs": [],
   "source": [
    "cv_results_2 = cross_validate(pipeline, new_data, target, \n",
    "                            cv=10, return_estimator=True)"
   ]
  },
  {
   "cell_type": "code",
   "execution_count": 15,
   "metadata": {},
   "outputs": [],
   "source": [
    "coefs_list = []\n",
    "for estimator in cv_results_2['estimator']:\n",
    "    coefs_list.append(estimator[-1].coef_)\n",
    "\n",
    "coefs = pd.DataFrame(coefs_list, columns=range(23))"
   ]
  },
  {
   "cell_type": "code",
   "execution_count": 16,
   "metadata": {},
   "outputs": [
    {
     "data": {
      "text/plain": [
       "<AxesSubplot:>"
      ]
     },
     "execution_count": 16,
     "metadata": {},
     "output_type": "execute_result"
    },
    {
     "data": {
      "image/png": "[encoded data removed]",
      "text/plain": [
       "<Figure size 1080x720 with 1 Axes>"
      ]
     },
     "metadata": {
      "needs_background": "light"
     },
     "output_type": "display_data"
    }
   ],
   "source": [
    "coefs.boxplot(figsize=(15,10))"
   ]
  },
  {
   "cell_type": "code",
   "execution_count": 17,
   "metadata": {},
   "outputs": [
    {
     "data": {
      "text/plain": [
       "16"
      ]
     },
     "execution_count": 17,
     "metadata": {},
     "output_type": "execute_result"
    }
   ],
   "source": [
    "numerical_features.index(\"GarageArea\")"
   ]
  },
  {
   "cell_type": "code",
   "execution_count": 86,
   "metadata": {},
   "outputs": [],
   "source": [
    "new_features = [x for x in numerical_features if x != \"GarageArea\"]"
   ]
  },
  {
   "cell_type": "code",
   "execution_count": 90,
   "metadata": {},
   "outputs": [],
   "source": [
    "from sklearn.linear_model import RidgeCV\n",
    "import numpy as np\n",
    "\n",
    "alphas=np.logspace(-3, 3, num=101)\n",
    "# alphas= [1]\n",
    "coefs = []\n",
    "\n",
    "for a in alphas:\n",
    "    ridge = Pipeline(steps=[('scaler', StandardScaler()), \n",
    "                            ('ridge', RidgeCV(alphas=[a]))])\n",
    "    values = []\n",
    "    cv_results = cross_validate(ridge, new_data, target,\n",
    "    cv=10, return_estimator=True, return_train_score=True, n_jobs=2)\n",
    "    for pipe in cv_results['estimator']:\n",
    "        values.append(pipe[-1].coef_[15])\n",
    "    coefs.append(np.std(values))"
   ]
  },
  {
   "cell_type": "code",
   "execution_count": 93,
   "metadata": {},
   "outputs": [
    {
     "data": {
      "image/png": "[encoded data removed]",
      "text/plain": [
       "<Figure size 432x288 with 1 Axes>"
      ]
     },
     "metadata": {
      "needs_background": "light"
     },
     "output_type": "display_data"
    }
   ],
   "source": [
    "import matplotlib.pyplot as plt\n",
    "\n",
    "fig, ax = plt.subplots()\n",
    "\n",
    "ax.scatter(alphas, coefs)\n",
    "ax.set_xscale(\"log\")\n",
    "\n",
    "plt.xlabel(\"alpha\")\n",
    "plt.ylabel(\"Standard deviation\")\n",
    "plt.title(\"Ridge coefficient Std as a function of the regularization\")\n",
    "plt.axis(\"tight\")\n",
    "plt.show()"
   ]
  },
  {
   "cell_type": "code",
   "execution_count": 95,
   "metadata": {},
   "outputs": [],
   "source": [
    "alphas=np.logspace(-3, 3, num=101)\n",
    "\n",
    "ridge = Pipeline(steps=[('scaler', StandardScaler()), \n",
    "                            ('ridge', RidgeCV(alphas=alphas))])\n",
    "\n",
    "cv_results = cross_validate(ridge, new_data, target,\n",
    "    cv=10, return_estimator=True, return_train_score=True, n_jobs=2)"
   ]
  },
  {
   "cell_type": "code",
   "execution_count": 99,
   "metadata": {},
   "outputs": [
    {
     "name": "stdout",
     "output_type": "stream",
     "text": [
      "331.13112148259074\n",
      "331.13112148259074\n",
      "288.40315031266056\n",
      "331.13112148259074\n",
      "331.13112148259074\n",
      "331.13112148259074\n",
      "288.40315031266056\n",
      "331.13112148259074\n",
      "63.0957344480193\n",
      "331.13112148259074\n"
     ]
    }
   ],
   "source": [
    "for estimator in cv_results['estimator']:\n",
    "    print(estimator[-1].alpha_)"
   ]
  },
  {
   "cell_type": "markdown",
   "metadata": {},
   "source": [
    "# Second part"
   ]
  },
  {
   "cell_type": "code",
   "execution_count": 100,
   "metadata": {},
   "outputs": [],
   "source": [
    "adult_census = pd.read_csv(\"../datasets/adult-census.csv\")\n",
    "target = adult_census[\"class\"]\n",
    "data = adult_census.select_dtypes([\"integer\", \"floating\"])\n",
    "data = data.drop(columns=[\"education-num\"])"
   ]
  },
  {
   "cell_type": "code",
   "execution_count": 122,
   "metadata": {},
   "outputs": [
    {
     "data": {
      "text/html": [
       "<div>\n",
       "<style scoped>\n",
       "    .dataframe tbody tr th:only-of-type {\n",
       "        vertical-align: middle;\n",
       "    }\n",
       "\n",
       "    .dataframe tbody tr th {\n",
       "        vertical-align: top;\n",
       "    }\n",
       "\n",
       "    .dataframe thead th {\n",
       "        text-align: right;\n",
       "    }\n",
       "</style>\n",
       "<table border=\"1\" class=\"dataframe\">\n",
       "  <thead>\n",
       "    <tr style=\"text-align: right;\">\n",
       "      <th></th>\n",
       "      <th>age</th>\n",
       "      <th>capital-gain</th>\n",
       "      <th>capital-loss</th>\n",
       "      <th>hours-per-week</th>\n",
       "    </tr>\n",
       "  </thead>\n",
       "  <tbody>\n",
       "    <tr>\n",
       "      <th>0</th>\n",
       "      <td>25</td>\n",
       "      <td>0</td>\n",
       "      <td>0</td>\n",
       "      <td>40</td>\n",
       "    </tr>\n",
       "    <tr>\n",
       "      <th>1</th>\n",
       "      <td>38</td>\n",
       "      <td>0</td>\n",
       "      <td>0</td>\n",
       "      <td>50</td>\n",
       "    </tr>\n",
       "    <tr>\n",
       "      <th>2</th>\n",
       "      <td>28</td>\n",
       "      <td>0</td>\n",
       "      <td>0</td>\n",
       "      <td>40</td>\n",
       "    </tr>\n",
       "    <tr>\n",
       "      <th>3</th>\n",
       "      <td>44</td>\n",
       "      <td>7688</td>\n",
       "      <td>0</td>\n",
       "      <td>40</td>\n",
       "    </tr>\n",
       "    <tr>\n",
       "      <th>4</th>\n",
       "      <td>18</td>\n",
       "      <td>0</td>\n",
       "      <td>0</td>\n",
       "      <td>30</td>\n",
       "    </tr>\n",
       "  </tbody>\n",
       "</table>\n",
       "</div>"
      ],
      "text/plain": [
       "   age  capital-gain  capital-loss  hours-per-week\n",
       "0   25             0             0              40\n",
       "1   38             0             0              50\n",
       "2   28             0             0              40\n",
       "3   44          7688             0              40\n",
       "4   18             0             0              30"
      ]
     },
     "execution_count": 122,
     "metadata": {},
     "output_type": "execute_result"
    }
   ],
   "source": [
    "data.head(5)"
   ]
  },
  {
   "cell_type": "code",
   "execution_count": 106,
   "metadata": {},
   "outputs": [],
   "source": [
    "from sklearn.linear_model import LogisticRegression\n",
    "from sklearn.dummy import DummyClassifier\n",
    "\n",
    "logrec = Pipeline(steps=[('scaler', StandardScaler()), \n",
    "                            ('LogRec', LogisticRegression())])\n",
    "dummy = DummyClassifier(strategy=\"most_frequent\")"
   ]
  },
  {
   "cell_type": "code",
   "execution_count": 114,
   "metadata": {},
   "outputs": [],
   "source": [
    "cv_logrec = cross_validate(logrec, data, target,\n",
    "    cv=10, n_jobs=2, return_estimator=True)\n",
    "\n",
    "cv_dummy = cross_validate(dummy, data, target,\n",
    "    cv=10, n_jobs=2)"
   ]
  },
  {
   "cell_type": "code",
   "execution_count": 112,
   "metadata": {},
   "outputs": [
    {
     "data": {
      "text/plain": [
       "[array([ True,  True,  True,  True,  True,  True,  True,  True,  True,\n",
       "         True])]"
      ]
     },
     "execution_count": 112,
     "metadata": {},
     "output_type": "execute_result"
    }
   ],
   "source": [
    "[cv_logrec['test_score'] > cv_dummy['test_score']]"
   ]
  },
  {
   "cell_type": "code",
   "execution_count": 142,
   "metadata": {},
   "outputs": [
    {
     "data": {
      "text/plain": [
       "array([[0.52204276, 2.4667774 , 0.30602977, 0.53963505]])"
      ]
     },
     "execution_count": 142,
     "metadata": {},
     "output_type": "execute_result"
    }
   ],
   "source": [
    "cv_logrec['estimator'][0][-1].coef_"
   ]
  },
  {
   "cell_type": "code",
   "execution_count": 145,
   "metadata": {},
   "outputs": [],
   "source": [
    "coefs_list = [np.squeeze(estimator[-1].coef_) for estimator in cv_logrec['estimator']]"
   ]
  },
  {
   "cell_type": "code",
   "execution_count": 149,
   "metadata": {},
   "outputs": [
    {
     "data": {
      "text/html": [
       "<div>\n",
       "<style scoped>\n",
       "    .dataframe tbody tr th:only-of-type {\n",
       "        vertical-align: middle;\n",
       "    }\n",
       "\n",
       "    .dataframe tbody tr th {\n",
       "        vertical-align: top;\n",
       "    }\n",
       "\n",
       "    .dataframe thead th {\n",
       "        text-align: right;\n",
       "    }\n",
       "</style>\n",
       "<table border=\"1\" class=\"dataframe\">\n",
       "  <thead>\n",
       "    <tr style=\"text-align: right;\">\n",
       "      <th></th>\n",
       "      <th>age</th>\n",
       "      <th>capital-gain</th>\n",
       "      <th>capital-loss</th>\n",
       "      <th>hours-per-week</th>\n",
       "    </tr>\n",
       "  </thead>\n",
       "  <tbody>\n",
       "    <tr>\n",
       "      <th>0</th>\n",
       "      <td>0.522043</td>\n",
       "      <td>2.466777</td>\n",
       "      <td>0.306030</td>\n",
       "      <td>0.539635</td>\n",
       "    </tr>\n",
       "    <tr>\n",
       "      <th>1</th>\n",
       "      <td>0.526067</td>\n",
       "      <td>2.406533</td>\n",
       "      <td>0.308178</td>\n",
       "      <td>0.541824</td>\n",
       "    </tr>\n",
       "    <tr>\n",
       "      <th>2</th>\n",
       "      <td>0.524257</td>\n",
       "      <td>2.455923</td>\n",
       "      <td>0.308124</td>\n",
       "      <td>0.543843</td>\n",
       "    </tr>\n",
       "    <tr>\n",
       "      <th>3</th>\n",
       "      <td>0.520375</td>\n",
       "      <td>2.450482</td>\n",
       "      <td>0.309170</td>\n",
       "      <td>0.534597</td>\n",
       "    </tr>\n",
       "    <tr>\n",
       "      <th>4</th>\n",
       "      <td>0.519259</td>\n",
       "      <td>2.512010</td>\n",
       "      <td>0.304243</td>\n",
       "      <td>0.546715</td>\n",
       "    </tr>\n",
       "    <tr>\n",
       "      <th>5</th>\n",
       "      <td>0.521732</td>\n",
       "      <td>2.441632</td>\n",
       "      <td>0.304017</td>\n",
       "      <td>0.541286</td>\n",
       "    </tr>\n",
       "    <tr>\n",
       "      <th>6</th>\n",
       "      <td>0.520235</td>\n",
       "      <td>2.473723</td>\n",
       "      <td>0.306893</td>\n",
       "      <td>0.536374</td>\n",
       "    </tr>\n",
       "    <tr>\n",
       "      <th>7</th>\n",
       "      <td>0.523958</td>\n",
       "      <td>2.445321</td>\n",
       "      <td>0.308326</td>\n",
       "      <td>0.538253</td>\n",
       "    </tr>\n",
       "    <tr>\n",
       "      <th>8</th>\n",
       "      <td>0.516454</td>\n",
       "      <td>2.405087</td>\n",
       "      <td>0.308394</td>\n",
       "      <td>0.535121</td>\n",
       "    </tr>\n",
       "    <tr>\n",
       "      <th>9</th>\n",
       "      <td>0.516737</td>\n",
       "      <td>2.450489</td>\n",
       "      <td>0.301394</td>\n",
       "      <td>0.535532</td>\n",
       "    </tr>\n",
       "  </tbody>\n",
       "</table>\n",
       "</div>"
      ],
      "text/plain": [
       "        age  capital-gain  capital-loss  hours-per-week\n",
       "0  0.522043      2.466777      0.306030        0.539635\n",
       "1  0.526067      2.406533      0.308178        0.541824\n",
       "2  0.524257      2.455923      0.308124        0.543843\n",
       "3  0.520375      2.450482      0.309170        0.534597\n",
       "4  0.519259      2.512010      0.304243        0.546715\n",
       "5  0.521732      2.441632      0.304017        0.541286\n",
       "6  0.520235      2.473723      0.306893        0.536374\n",
       "7  0.523958      2.445321      0.308326        0.538253\n",
       "8  0.516454      2.405087      0.308394        0.535121\n",
       "9  0.516737      2.450489      0.301394        0.535532"
      ]
     },
     "execution_count": 149,
     "metadata": {},
     "output_type": "execute_result"
    }
   ],
   "source": [
    "coefs = pd.DataFrame(coefs_list, columns=data.columns)\n",
    "coefs"
   ]
  },
  {
   "cell_type": "markdown",
   "metadata": {},
   "source": [
    "# Third part"
   ]
  },
  {
   "cell_type": "code",
   "execution_count": 158,
   "metadata": {},
   "outputs": [],
   "source": [
    "adult_census = pd.read_csv(\"../datasets/adult-census.csv\")\n",
    "target = adult_census[\"class\"]\n",
    "data = adult_census.drop(columns=[\"class\", \"education-num\"])"
   ]
  },
  {
   "cell_type": "code",
   "execution_count": 174,
   "metadata": {},
   "outputs": [
    {
     "data": {
      "text/html": [
       "<div>\n",
       "<style scoped>\n",
       "    .dataframe tbody tr th:only-of-type {\n",
       "        vertical-align: middle;\n",
       "    }\n",
       "\n",
       "    .dataframe tbody tr th {\n",
       "        vertical-align: top;\n",
       "    }\n",
       "\n",
       "    .dataframe thead th {\n",
       "        text-align: right;\n",
       "    }\n",
       "</style>\n",
       "<table border=\"1\" class=\"dataframe\">\n",
       "  <thead>\n",
       "    <tr style=\"text-align: right;\">\n",
       "      <th></th>\n",
       "      <th>age</th>\n",
       "      <th>workclass</th>\n",
       "      <th>education</th>\n",
       "      <th>marital-status</th>\n",
       "      <th>occupation</th>\n",
       "      <th>relationship</th>\n",
       "      <th>race</th>\n",
       "      <th>sex</th>\n",
       "      <th>capital-gain</th>\n",
       "      <th>capital-loss</th>\n",
       "      <th>hours-per-week</th>\n",
       "      <th>native-country</th>\n",
       "    </tr>\n",
       "  </thead>\n",
       "  <tbody>\n",
       "    <tr>\n",
       "      <th>0</th>\n",
       "      <td>25</td>\n",
       "      <td>Private</td>\n",
       "      <td>11th</td>\n",
       "      <td>Never-married</td>\n",
       "      <td>Machine-op-inspct</td>\n",
       "      <td>Own-child</td>\n",
       "      <td>Black</td>\n",
       "      <td>Male</td>\n",
       "      <td>0</td>\n",
       "      <td>0</td>\n",
       "      <td>40</td>\n",
       "      <td>United-States</td>\n",
       "    </tr>\n",
       "    <tr>\n",
       "      <th>1</th>\n",
       "      <td>38</td>\n",
       "      <td>Private</td>\n",
       "      <td>HS-grad</td>\n",
       "      <td>Married-civ-spouse</td>\n",
       "      <td>Farming-fishing</td>\n",
       "      <td>Husband</td>\n",
       "      <td>White</td>\n",
       "      <td>Male</td>\n",
       "      <td>0</td>\n",
       "      <td>0</td>\n",
       "      <td>50</td>\n",
       "      <td>United-States</td>\n",
       "    </tr>\n",
       "    <tr>\n",
       "      <th>2</th>\n",
       "      <td>28</td>\n",
       "      <td>Local-gov</td>\n",
       "      <td>Assoc-acdm</td>\n",
       "      <td>Married-civ-spouse</td>\n",
       "      <td>Protective-serv</td>\n",
       "      <td>Husband</td>\n",
       "      <td>White</td>\n",
       "      <td>Male</td>\n",
       "      <td>0</td>\n",
       "      <td>0</td>\n",
       "      <td>40</td>\n",
       "      <td>United-States</td>\n",
       "    </tr>\n",
       "    <tr>\n",
       "      <th>3</th>\n",
       "      <td>44</td>\n",
       "      <td>Private</td>\n",
       "      <td>Some-college</td>\n",
       "      <td>Married-civ-spouse</td>\n",
       "      <td>Machine-op-inspct</td>\n",
       "      <td>Husband</td>\n",
       "      <td>Black</td>\n",
       "      <td>Male</td>\n",
       "      <td>7688</td>\n",
       "      <td>0</td>\n",
       "      <td>40</td>\n",
       "      <td>United-States</td>\n",
       "    </tr>\n",
       "    <tr>\n",
       "      <th>4</th>\n",
       "      <td>18</td>\n",
       "      <td>?</td>\n",
       "      <td>Some-college</td>\n",
       "      <td>Never-married</td>\n",
       "      <td>?</td>\n",
       "      <td>Own-child</td>\n",
       "      <td>White</td>\n",
       "      <td>Female</td>\n",
       "      <td>0</td>\n",
       "      <td>0</td>\n",
       "      <td>30</td>\n",
       "      <td>United-States</td>\n",
       "    </tr>\n",
       "    <tr>\n",
       "      <th>...</th>\n",
       "      <td>...</td>\n",
       "      <td>...</td>\n",
       "      <td>...</td>\n",
       "      <td>...</td>\n",
       "      <td>...</td>\n",
       "      <td>...</td>\n",
       "      <td>...</td>\n",
       "      <td>...</td>\n",
       "      <td>...</td>\n",
       "      <td>...</td>\n",
       "      <td>...</td>\n",
       "      <td>...</td>\n",
       "    </tr>\n",
       "    <tr>\n",
       "      <th>48837</th>\n",
       "      <td>27</td>\n",
       "      <td>Private</td>\n",
       "      <td>Assoc-acdm</td>\n",
       "      <td>Married-civ-spouse</td>\n",
       "      <td>Tech-support</td>\n",
       "      <td>Wife</td>\n",
       "      <td>White</td>\n",
       "      <td>Female</td>\n",
       "      <td>0</td>\n",
       "      <td>0</td>\n",
       "      <td>38</td>\n",
       "      <td>United-States</td>\n",
       "    </tr>\n",
       "    <tr>\n",
       "      <th>48838</th>\n",
       "      <td>40</td>\n",
       "      <td>Private</td>\n",
       "      <td>HS-grad</td>\n",
       "      <td>Married-civ-spouse</td>\n",
       "      <td>Machine-op-inspct</td>\n",
       "      <td>Husband</td>\n",
       "      <td>White</td>\n",
       "      <td>Male</td>\n",
       "      <td>0</td>\n",
       "      <td>0</td>\n",
       "      <td>40</td>\n",
       "      <td>United-States</td>\n",
       "    </tr>\n",
       "    <tr>\n",
       "      <th>48839</th>\n",
       "      <td>58</td>\n",
       "      <td>Private</td>\n",
       "      <td>HS-grad</td>\n",
       "      <td>Widowed</td>\n",
       "      <td>Adm-clerical</td>\n",
       "      <td>Unmarried</td>\n",
       "      <td>White</td>\n",
       "      <td>Female</td>\n",
       "      <td>0</td>\n",
       "      <td>0</td>\n",
       "      <td>40</td>\n",
       "      <td>United-States</td>\n",
       "    </tr>\n",
       "    <tr>\n",
       "      <th>48840</th>\n",
       "      <td>22</td>\n",
       "      <td>Private</td>\n",
       "      <td>HS-grad</td>\n",
       "      <td>Never-married</td>\n",
       "      <td>Adm-clerical</td>\n",
       "      <td>Own-child</td>\n",
       "      <td>White</td>\n",
       "      <td>Male</td>\n",
       "      <td>0</td>\n",
       "      <td>0</td>\n",
       "      <td>20</td>\n",
       "      <td>United-States</td>\n",
       "    </tr>\n",
       "    <tr>\n",
       "      <th>48841</th>\n",
       "      <td>52</td>\n",
       "      <td>Self-emp-inc</td>\n",
       "      <td>HS-grad</td>\n",
       "      <td>Married-civ-spouse</td>\n",
       "      <td>Exec-managerial</td>\n",
       "      <td>Wife</td>\n",
       "      <td>White</td>\n",
       "      <td>Female</td>\n",
       "      <td>15024</td>\n",
       "      <td>0</td>\n",
       "      <td>40</td>\n",
       "      <td>United-States</td>\n",
       "    </tr>\n",
       "  </tbody>\n",
       "</table>\n",
       "<p>48842 rows × 12 columns</p>\n",
       "</div>"
      ],
      "text/plain": [
       "       age      workclass      education       marital-status  \\\n",
       "0       25        Private           11th        Never-married   \n",
       "1       38        Private        HS-grad   Married-civ-spouse   \n",
       "2       28      Local-gov     Assoc-acdm   Married-civ-spouse   \n",
       "3       44        Private   Some-college   Married-civ-spouse   \n",
       "4       18              ?   Some-college        Never-married   \n",
       "...    ...            ...            ...                  ...   \n",
       "48837   27        Private     Assoc-acdm   Married-civ-spouse   \n",
       "48838   40        Private        HS-grad   Married-civ-spouse   \n",
       "48839   58        Private        HS-grad              Widowed   \n",
       "48840   22        Private        HS-grad        Never-married   \n",
       "48841   52   Self-emp-inc        HS-grad   Married-civ-spouse   \n",
       "\n",
       "               occupation relationship    race      sex  capital-gain  \\\n",
       "0       Machine-op-inspct    Own-child   Black     Male             0   \n",
       "1         Farming-fishing      Husband   White     Male             0   \n",
       "2         Protective-serv      Husband   White     Male             0   \n",
       "3       Machine-op-inspct      Husband   Black     Male          7688   \n",
       "4                       ?    Own-child   White   Female             0   \n",
       "...                   ...          ...     ...      ...           ...   \n",
       "48837        Tech-support         Wife   White   Female             0   \n",
       "48838   Machine-op-inspct      Husband   White     Male             0   \n",
       "48839        Adm-clerical    Unmarried   White   Female             0   \n",
       "48840        Adm-clerical    Own-child   White     Male             0   \n",
       "48841     Exec-managerial         Wife   White   Female         15024   \n",
       "\n",
       "       capital-loss  hours-per-week  native-country  \n",
       "0                 0              40   United-States  \n",
       "1                 0              50   United-States  \n",
       "2                 0              40   United-States  \n",
       "3                 0              40   United-States  \n",
       "4                 0              30   United-States  \n",
       "...             ...             ...             ...  \n",
       "48837             0              38   United-States  \n",
       "48838             0              40   United-States  \n",
       "48839             0              40   United-States  \n",
       "48840             0              20   United-States  \n",
       "48841             0              40   United-States  \n",
       "\n",
       "[48842 rows x 12 columns]"
      ]
     },
     "execution_count": 174,
     "metadata": {},
     "output_type": "execute_result"
    }
   ],
   "source": [
    "data"
   ]
  },
  {
   "cell_type": "code",
   "execution_count": 161,
   "metadata": {},
   "outputs": [
    {
     "data": {
      "text/plain": [
       "age                int64\n",
       "workclass         object\n",
       "education         object\n",
       "marital-status    object\n",
       "occupation        object\n",
       "relationship      object\n",
       "race              object\n",
       "sex               object\n",
       "capital-gain       int64\n",
       "capital-loss       int64\n",
       "hours-per-week     int64\n",
       "native-country    object\n",
       "dtype: object"
      ]
     },
     "execution_count": 161,
     "metadata": {},
     "output_type": "execute_result"
    }
   ],
   "source": [
    "data.dtypes"
   ]
  },
  {
   "cell_type": "code",
   "execution_count": 179,
   "metadata": {},
   "outputs": [],
   "source": [
    "from sklearn.compose import ColumnTransformer\n",
    "from sklearn.preprocessing import StandardScaler, OneHotEncoder\n",
    "from sklearn.compose import make_column_transformer, make_column_selector\n",
    "\n",
    "ct = make_column_transformer(\n",
    "    (StandardScaler(),\n",
    "    make_column_selector(dtype_exclude=object)),\n",
    "    (OneHotEncoder(),\n",
    "    make_column_selector(dtype_include=object)))\n",
    "\n",
    "processed_data = ct.fit_transform(data)\n",
    "log_reg = LogisticRegression(max_iter=500)"
   ]
  },
  {
   "cell_type": "code",
   "execution_count": 180,
   "metadata": {},
   "outputs": [],
   "source": [
    "cv_results_cat = cross_validate(log_reg, processed_data, target,\n",
    "    cv=10, n_jobs=2)"
   ]
  },
  {
   "cell_type": "code",
   "execution_count": 188,
   "metadata": {},
   "outputs": [
    {
     "data": {
      "text/plain": [
       "[array([ True,  True,  True,  True,  True,  True,  True,  True,  True,\n",
       "         True])]"
      ]
     },
     "execution_count": 188,
     "metadata": {},
     "output_type": "execute_result"
    }
   ],
   "source": [
    "[cv_results_cat['test_score'] > cv_logrec['test_score']]"
   ]
  },
  {
   "cell_type": "code",
   "execution_count": 191,
   "metadata": {},
   "outputs": [],
   "source": [
    "from sklearn.compose import make_column_selector as selector\n",
    "\n",
    "numerical_columns_selector = selector(dtype_exclude=object)\n",
    "categorical_columns_selector = selector(dtype_include=object)\n",
    "\n",
    "numerical_columns = numerical_columns_selector(data)\n",
    "categorical_columns = categorical_columns_selector(data)"
   ]
  },
  {
   "cell_type": "code",
   "execution_count": 194,
   "metadata": {},
   "outputs": [],
   "source": [
    "from sklearn.compose import ColumnTransformer\n",
    "from sklearn.pipeline import make_pipeline\n",
    "\n",
    "categorical_preprocessor = OneHotEncoder(handle_unknown=\"ignore\")\n",
    "numerical_preprocessor = StandardScaler()\n",
    "\n",
    "preprocessor = ColumnTransformer([\n",
    "    ('one-hot-encoder', categorical_preprocessor, categorical_columns),\n",
    "    ('standard_scaler', numerical_preprocessor, numerical_columns)])\n",
    "\n",
    "model = make_pipeline(preprocessor, LogisticRegression(max_iter=500))"
   ]
  },
  {
   "cell_type": "code",
   "execution_count": 195,
   "metadata": {},
   "outputs": [
    {
     "data": {
      "text/plain": [
       "Pipeline(steps=[('columntransformer',\n",
       "                 ColumnTransformer(transformers=[('one-hot-encoder',\n",
       "                                                  OneHotEncoder(handle_unknown='ignore'),\n",
       "                                                  ['workclass', 'education',\n",
       "                                                   'marital-status',\n",
       "                                                   'occupation', 'relationship',\n",
       "                                                   'race', 'sex',\n",
       "                                                   'native-country']),\n",
       "                                                 ('standard_scaler',\n",
       "                                                  StandardScaler(),\n",
       "                                                  ['age', 'capital-gain',\n",
       "                                                   'capital-loss',\n",
       "                                                   'hours-per-week'])])),\n",
       "                ('logisticregression', LogisticRegression(max_iter=500))])"
      ]
     },
     "execution_count": 195,
     "metadata": {},
     "output_type": "execute_result"
    }
   ],
   "source": [
    "model.fit(data, target)"
   ]
  },
  {
   "cell_type": "code",
   "execution_count": 197,
   "metadata": {
    "collapsed": true
   },
   "outputs": [
    {
     "data": {
      "text/plain": [
       "['workclass_ ?',\n",
       " 'workclass_ Federal-gov',\n",
       " 'workclass_ Local-gov',\n",
       " 'workclass_ Never-worked',\n",
       " 'workclass_ Private',\n",
       " 'workclass_ Self-emp-inc',\n",
       " 'workclass_ Self-emp-not-inc',\n",
       " 'workclass_ State-gov',\n",
       " 'workclass_ Without-pay',\n",
       " 'education_ 10th',\n",
       " 'education_ 11th',\n",
       " 'education_ 12th',\n",
       " 'education_ 1st-4th',\n",
       " 'education_ 5th-6th',\n",
       " 'education_ 7th-8th',\n",
       " 'education_ 9th',\n",
       " 'education_ Assoc-acdm',\n",
       " 'education_ Assoc-voc',\n",
       " 'education_ Bachelors',\n",
       " 'education_ Doctorate',\n",
       " 'education_ HS-grad',\n",
       " 'education_ Masters',\n",
       " 'education_ Preschool',\n",
       " 'education_ Prof-school',\n",
       " 'education_ Some-college',\n",
       " 'marital-status_ Divorced',\n",
       " 'marital-status_ Married-AF-spouse',\n",
       " 'marital-status_ Married-civ-spouse',\n",
       " 'marital-status_ Married-spouse-absent',\n",
       " 'marital-status_ Never-married',\n",
       " 'marital-status_ Separated',\n",
       " 'marital-status_ Widowed',\n",
       " 'occupation_ ?',\n",
       " 'occupation_ Adm-clerical',\n",
       " 'occupation_ Armed-Forces',\n",
       " 'occupation_ Craft-repair',\n",
       " 'occupation_ Exec-managerial',\n",
       " 'occupation_ Farming-fishing',\n",
       " 'occupation_ Handlers-cleaners',\n",
       " 'occupation_ Machine-op-inspct',\n",
       " 'occupation_ Other-service',\n",
       " 'occupation_ Priv-house-serv',\n",
       " 'occupation_ Prof-specialty',\n",
       " 'occupation_ Protective-serv',\n",
       " 'occupation_ Sales',\n",
       " 'occupation_ Tech-support',\n",
       " 'occupation_ Transport-moving',\n",
       " 'relationship_ Husband',\n",
       " 'relationship_ Not-in-family',\n",
       " 'relationship_ Other-relative',\n",
       " 'relationship_ Own-child',\n",
       " 'relationship_ Unmarried',\n",
       " 'relationship_ Wife',\n",
       " 'race_ Amer-Indian-Eskimo',\n",
       " 'race_ Asian-Pac-Islander',\n",
       " 'race_ Black',\n",
       " 'race_ Other',\n",
       " 'race_ White',\n",
       " 'sex_ Female',\n",
       " 'sex_ Male',\n",
       " 'native-country_ ?',\n",
       " 'native-country_ Cambodia',\n",
       " 'native-country_ Canada',\n",
       " 'native-country_ China',\n",
       " 'native-country_ Columbia',\n",
       " 'native-country_ Cuba',\n",
       " 'native-country_ Dominican-Republic',\n",
       " 'native-country_ Ecuador',\n",
       " 'native-country_ El-Salvador',\n",
       " 'native-country_ England',\n",
       " 'native-country_ France',\n",
       " 'native-country_ Germany',\n",
       " 'native-country_ Greece',\n",
       " 'native-country_ Guatemala',\n",
       " 'native-country_ Haiti',\n",
       " 'native-country_ Holand-Netherlands',\n",
       " 'native-country_ Honduras',\n",
       " 'native-country_ Hong',\n",
       " 'native-country_ Hungary',\n",
       " 'native-country_ India',\n",
       " 'native-country_ Iran',\n",
       " 'native-country_ Ireland',\n",
       " 'native-country_ Italy',\n",
       " 'native-country_ Jamaica',\n",
       " 'native-country_ Japan',\n",
       " 'native-country_ Laos',\n",
       " 'native-country_ Mexico',\n",
       " 'native-country_ Nicaragua',\n",
       " 'native-country_ Outlying-US(Guam-USVI-etc)',\n",
       " 'native-country_ Peru',\n",
       " 'native-country_ Philippines',\n",
       " 'native-country_ Poland',\n",
       " 'native-country_ Portugal',\n",
       " 'native-country_ Puerto-Rico',\n",
       " 'native-country_ Scotland',\n",
       " 'native-country_ South',\n",
       " 'native-country_ Taiwan',\n",
       " 'native-country_ Thailand',\n",
       " 'native-country_ Trinadad&Tobago',\n",
       " 'native-country_ United-States',\n",
       " 'native-country_ Vietnam',\n",
       " 'native-country_ Yugoslavia',\n",
       " 'age',\n",
       " 'capital-gain',\n",
       " 'capital-loss',\n",
       " 'hours-per-week']"
      ]
     },
     "execution_count": 197,
     "metadata": {},
     "output_type": "execute_result"
    }
   ],
   "source": [
    "preprocessor.fit(data)\n",
    "feature_names = (preprocessor.named_transformers_[\"one-hot-encoder\"]\n",
    "                             .get_feature_names_out(categorical_columns)).tolist()\n",
    "feature_names += numerical_columns\n",
    "feature_names"
   ]
  },
  {
   "cell_type": "code",
   "execution_count": 208,
   "metadata": {
    "collapsed": true
   },
   "outputs": [
    {
     "name": "stdout",
     "output_type": "stream",
     "text": [
      "                                                   0\n",
      "workclass_ ?                               -0.135697\n",
      "workclass_ Federal-gov                      0.672042\n",
      "workclass_ Local-gov                        0.039535\n",
      "workclass_ Never-worked                    -0.176991\n",
      "workclass_ Private                          0.185518\n",
      "workclass_ Self-emp-inc                     0.329711\n",
      "workclass_ Self-emp-not-inc                -0.354589\n",
      "workclass_ State-gov                       -0.131599\n",
      "workclass_ Without-pay                     -0.443880\n",
      "education_ 10th                            -0.834969\n",
      "education_ 11th                            -0.738624\n",
      "education_ 12th                            -0.316718\n",
      "education_ 1st-4th                         -1.236777\n",
      "education_ 5th-6th                         -0.946046\n",
      "education_ 7th-8th                         -1.242744\n",
      "education_ 9th                             -1.031686\n",
      "education_ Assoc-acdm                       0.593955\n",
      "education_ Assoc-voc                        0.498404\n",
      "education_ Bachelors                        1.128148\n",
      "education_ Doctorate                        2.003122\n",
      "education_ HS-grad                          0.015319\n",
      "education_ Masters                          1.460194\n",
      "education_ Preschool                       -1.699474\n",
      "education_ Prof-school                      1.951835\n",
      "education_ Some-college                     0.380109\n",
      "marital-status_ Divorced                   -0.586486\n",
      "marital-status_ Married-AF-spouse           1.497771\n",
      "marital-status_ Married-civ-spouse          1.651526\n",
      "marital-status_ Married-spouse-absent      -0.426826\n",
      "marital-status_ Never-married              -1.012820\n",
      "marital-status_ Separated                  -0.636911\n",
      "marital-status_ Widowed                    -0.502203\n",
      "occupation_ ?                              -0.312688\n",
      "occupation_ Adm-clerical                    0.120680\n",
      "occupation_ Armed-Forces                    0.435265\n",
      "occupation_ Craft-repair                    0.188970\n",
      "occupation_ Exec-managerial                 0.888087\n",
      "occupation_ Farming-fishing                -0.853165\n",
      "occupation_ Handlers-cleaners              -0.559883\n",
      "occupation_ Machine-op-inspct              -0.182490\n",
      "occupation_ Other-service                  -0.755775\n",
      "occupation_ Priv-house-serv                -1.322470\n",
      "occupation_ Prof-specialty                  0.660127\n",
      "occupation_ Protective-serv                 0.605055\n",
      "occupation_ Sales                           0.378760\n",
      "occupation_ Tech-support                    0.678669\n",
      "occupation_ Transport-moving                0.014909\n",
      "relationship_ Husband                      -0.128233\n",
      "relationship_ Not-in-family                 0.349281\n",
      "relationship_ Other-relative               -0.663527\n",
      "relationship_ Own-child                    -0.737273\n",
      "relationship_ Unmarried                     0.159157\n",
      "relationship_ Wife                          1.004644\n",
      "race_ Amer-Indian-Eskimo                   -0.417007\n",
      "race_ Asian-Pac-Islander                    0.285684\n",
      "race_ Black                                -0.080120\n",
      "race_ Other                                 0.064808\n",
      "race_ White                                 0.130685\n",
      "sex_ Female                                -0.365329\n",
      "sex_ Male                                   0.349379\n",
      "native-country_ ?                           0.109799\n",
      "native-country_ Cambodia                    0.762127\n",
      "native-country_ Canada                      0.688378\n",
      "native-country_ China                      -0.422375\n",
      "native-country_ Columbia                   -1.442896\n",
      "native-country_ Cuba                        0.338502\n",
      "native-country_ Dominican-Republic         -0.678050\n",
      "native-country_ Ecuador                    -0.158816\n",
      "native-country_ El-Salvador                -0.305969\n",
      "native-country_ England                     0.594406\n",
      "native-country_ France                      0.765590\n",
      "native-country_ Germany                     0.286311\n",
      "native-country_ Greece                      0.004675\n",
      "native-country_ Guatemala                  -0.225612\n",
      "native-country_ Haiti                       0.314983\n",
      "native-country_ Holand-Netherlands         -0.018696\n",
      "native-country_ Honduras                    0.077572\n",
      "native-country_ Hong                       -0.215358\n",
      "native-country_ Hungary                     0.416103\n",
      "native-country_ India                      -0.051710\n",
      "native-country_ Iran                        0.152723\n",
      "native-country_ Ireland                     0.998537\n",
      "native-country_ Italy                       0.736968\n",
      "native-country_ Jamaica                     0.352167\n",
      "native-country_ Japan                       0.086394\n",
      "native-country_ Laos                       -0.665576\n",
      "native-country_ Mexico                     -0.503724\n",
      "native-country_ Nicaragua                  -0.231255\n",
      "native-country_ Outlying-US(Guam-USVI-etc) -0.318274\n",
      "native-country_ Peru                       -0.487601\n",
      "native-country_ Philippines                 0.444206\n",
      "native-country_ Poland                      0.133986\n",
      "native-country_ Portugal                    0.724398\n",
      "native-country_ Puerto-Rico                -0.030240\n",
      "native-country_ Scotland                   -0.520342\n",
      "native-country_ South                      -0.913748\n",
      "native-country_ Taiwan                      0.089832\n",
      "native-country_ Thailand                   -0.489331\n",
      "native-country_ Trinadad&Tobago            -0.645536\n",
      "native-country_ United-States               0.339771\n",
      "native-country_ Vietnam                    -0.789254\n",
      "native-country_ Yugoslavia                  0.680989\n",
      "age                                         0.336263\n",
      "capital-gain                                2.347560\n",
      "capital-loss                                0.259712\n",
      "hours-per-week                              0.354967\n"
     ]
    }
   ],
   "source": [
    "cat_coefs = pd.DataFrame(model[-1].coef_, columns=feature_names)\n",
    "print(cat_coefs.transpose().to_string())"
   ]
  },
  {
   "cell_type": "code",
   "execution_count": null,
   "metadata": {},
   "outputs": [],
   "source": []
  }
 ],
 "metadata": {
  "kernelspec": {
   "display_name": "Python 3 (ipykernel)",
   "language": "python",
   "name": "python3"
  },
  "language_info": {
   "codemirror_mode": {
    "name": "ipython",
    "version": 3
   },
   "file_extension": ".py",
   "mimetype": "text/x-python",
   "name": "python",
   "nbconvert_exporter": "python",
   "pygments_lexer": "ipython3",
   "version": "3.9.10"
  }
 },
 "nbformat": 4,
 "nbformat_minor": 4
}
