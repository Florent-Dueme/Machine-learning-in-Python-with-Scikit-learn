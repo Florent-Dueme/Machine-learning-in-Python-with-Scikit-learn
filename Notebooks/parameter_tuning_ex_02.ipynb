{
 "cells": [
  {
   "cell_type": "markdown",
   "id": "d79eaa07",
   "metadata": {},
   "source": [
    "# 📝 Exercise M3.01\n",
    "\n",
    "The goal is to write an exhaustive search to find the best parameters\n",
    "combination maximizing the model generalization performance.\n",
    "\n",
    "Here we use a small subset of the Adult Census dataset to make the code\n",
    "faster to execute. Once your code works on the small subset, try to\n",
    "change `train_size` to a larger value (e.g. 0.8 for 80% instead of\n",
    "20%)."
   ]
  },
  {
   "cell_type": "code",
   "execution_count": null,
   "id": "bec84627",
   "metadata": {},
   "outputs": [],
   "source": [
    "import pandas as pd\n",
    "\n",
    "from sklearn.model_selection import train_test_split\n",
    "\n",
    "adult_census = pd.read_csv(\"../datasets/adult-census.csv\")\n",
    "\n",
    "target_name = \"class\"\n",
    "target = adult_census[target_name]\n",
    "data = adult_census.drop(columns=[target_name, \"education-num\"])\n",
    "\n",
    "# data_train, data_test, target_train, target_test = train_test_split(\n",
    "#     data, target, train_size=0.2, random_state=42)\n",
    "\n",
    "data_train, data_test, target_train, target_test = train_test_split(\n",
    "    data, target, train_size=0.8, random_state=42)"
   ]
  },
  {
   "cell_type": "code",
   "execution_count": null,
   "id": "18dbc8e8",
   "metadata": {},
   "outputs": [],
   "source": [
    "from sklearn.compose import ColumnTransformer\n",
    "from sklearn.compose import make_column_selector as selector\n",
    "from sklearn.preprocessing import OrdinalEncoder\n",
    "\n",
    "categorical_preprocessor = OrdinalEncoder(handle_unknown=\"use_encoded_value\",\n",
    "                                          unknown_value=-1)\n",
    "preprocessor = ColumnTransformer(\n",
    "    [('cat_preprocessor', categorical_preprocessor,\n",
    "      selector(dtype_include=object))],\n",
    "    remainder='passthrough', sparse_threshold=0)\n",
    "\n",
    "from sklearn.ensemble import HistGradientBoostingClassifier\n",
    "from sklearn.pipeline import Pipeline\n",
    "\n",
    "model = Pipeline([\n",
    "    (\"preprocessor\", preprocessor),\n",
    "    (\"classifier\", HistGradientBoostingClassifier(random_state=42))\n",
    "])"
   ]
  },
  {
   "cell_type": "code",
   "execution_count": 22,
   "id": "6f606474",
   "metadata": {},
   "outputs": [],
   "source": [
    "HistGradientBoostingClassifier?"
   ]
  },
  {
   "cell_type": "markdown",
   "id": "5662810b",
   "metadata": {},
   "source": [
    "\n",
    "Use the previously defined model (called `model`) and using two nested `for`\n",
    "loops, make a search of the best combinations of the `learning_rate` and\n",
    "`max_leaf_nodes` parameters. In this regard, you will need to train and test\n",
    "the model by setting the parameters. The evaluation of the model should be\n",
    "performed using `cross_val_score` on the training set. We will use the\n",
    "following parameters search:\n",
    "- `learning_rate` for the values 0.01, 0.1, 1 and 10. This parameter controls\n",
    "  the ability of a new tree to correct the error of the previous sequence of\n",
    "  trees\n",
    "- `max_leaf_nodes` for the values 3, 10, 30. This parameter controls the\n",
    "  depth of each tree."
   ]
  },
  {
   "cell_type": "code",
   "execution_count": 18,
   "id": "e24920a3",
   "metadata": {},
   "outputs": [
    {
     "name": "stdout",
     "output_type": "stream",
     "text": [
      "\n",
      "        Accuracy score via cross-validation with learning_rate=0.01\n",
      "        and max_leaf_nodes=3:\n",
      "0.797 +/- 0.002\n",
      "\n",
      "        Accuracy score via cross-validation with learning_rate=0.01\n",
      "        and max_leaf_nodes=10:\n",
      "0.819 +/- 0.003\n",
      "\n",
      "        Accuracy score via cross-validation with learning_rate=0.01\n",
      "        and max_leaf_nodes=30:\n",
      "0.848 +/- 0.004\n",
      "\n",
      "        Accuracy score via cross-validation with learning_rate=0.1\n",
      "        and max_leaf_nodes=3:\n",
      "0.855 +/- 0.003\n",
      "\n",
      "        Accuracy score via cross-validation with learning_rate=0.1\n",
      "        and max_leaf_nodes=10:\n",
      "0.869 +/- 0.003\n",
      "\n",
      "        Accuracy score via cross-validation with learning_rate=0.1\n",
      "        and max_leaf_nodes=30:\n",
      "0.871 +/- 0.003\n",
      "\n",
      "        Accuracy score via cross-validation with learning_rate=1.0\n",
      "        and max_leaf_nodes=3:\n",
      "0.862 +/- 0.007\n",
      "\n",
      "        Accuracy score via cross-validation with learning_rate=1.0\n",
      "        and max_leaf_nodes=10:\n",
      "0.862 +/- 0.009\n",
      "\n",
      "        Accuracy score via cross-validation with learning_rate=1.0\n",
      "        and max_leaf_nodes=30:\n",
      "0.859 +/- 0.003\n",
      "\n",
      "        Accuracy score via cross-validation with learning_rate=10.0\n",
      "        and max_leaf_nodes=3:\n",
      "0.282 +/- 0.005\n",
      "\n",
      "        Accuracy score via cross-validation with learning_rate=10.0\n",
      "        and max_leaf_nodes=10:\n",
      "0.761 +/- 0.043\n",
      "\n",
      "        Accuracy score via cross-validation with learning_rate=10.0\n",
      "        and max_leaf_nodes=30:\n",
      "0.356 +/- 0.154\n"
     ]
    }
   ],
   "source": [
    "from sklearn.model_selection import cross_val_score\n",
    "import numpy as np\n",
    "\n",
    "learning_rate = np.geomspace(.01, 10, 4)\n",
    "max_leaf_nodes = [3, 10, 30]\n",
    "\n",
    "for rate in learning_rate:\n",
    "    for node in max_leaf_nodes:\n",
    "        model.set_params(classifier__learning_rate=rate)\n",
    "        model.set_params(classifier__max_leaf_nodes=node)\n",
    "        scores = cross_val_score(model, data_train, target_train)\n",
    "        print(f\"\"\"\n",
    "        Accuracy score via cross-validation with learning_rate={rate}\n",
    "        and max_leaf_nodes={node}:\\n\"\"\"\n",
    "              f\"{scores.mean():.3f} +/- {scores.std():.3f}\")"
   ]
  },
  {
   "cell_type": "markdown",
   "id": "09487e9d",
   "metadata": {},
   "source": [
    "\n",
    "Now use the test set to score the model using the best parameters\n",
    "that we found using cross-validation in the training set."
   ]
  },
  {
   "cell_type": "code",
   "execution_count": 21,
   "id": "d67d616c",
   "metadata": {},
   "outputs": [
    {
     "data": {
      "text/plain": [
       "0.8714300337803256"
      ]
     },
     "execution_count": 21,
     "metadata": {},
     "output_type": "execute_result"
    }
   ],
   "source": [
    "model.set_params(classifier__learning_rate=1)\n",
    "model.set_params(classifier__max_leaf_nodes=3)\n",
    "\n",
    "model.fit(data_train, target_train)\n",
    "model.score(data_test, target_test)"
   ]
  },
  {
   "cell_type": "code",
   "execution_count": 23,
   "id": "8c4d661e",
   "metadata": {},
   "outputs": [
    {
     "data": {
      "text/plain": [
       "1"
      ]
     },
     "execution_count": 23,
     "metadata": {},
     "output_type": "execute_result"
    }
   ],
   "source": [
    "model.get_params()['classifier__learning_rate']"
   ]
  },
  {
   "cell_type": "code",
   "execution_count": null,
   "id": "35642fd1",
   "metadata": {},
   "outputs": [],
   "source": []
  }
 ],
 "metadata": {
  "jupytext": {
   "encoding": "# -*- coding: utf-8 -*-",
   "main_language": "python"
  },
  "kernelspec": {
   "display_name": "Python 3 (ipykernel)",
   "language": "python",
   "name": "python3"
  },
  "language_info": {
   "codemirror_mode": {
    "name": "ipython",
    "version": 3
   },
   "file_extension": ".py",
   "mimetype": "text/x-python",
   "name": "python",
   "nbconvert_exporter": "python",
   "pygments_lexer": "ipython3",
   "version": "3.9.10"
  },
  "nbreset": "https://raw.githubusercontent.com/INRIA/scikit-learn-mooc/main/notebooks/parameter_tuning_ex_02.ipynb"
 },
 "nbformat": 4,
 "nbformat_minor": 5
}
