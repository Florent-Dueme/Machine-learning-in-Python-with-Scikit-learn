{
 "cells": [
  {
   "cell_type": "markdown",
   "id": "69766530",
   "metadata": {},
   "source": [
    "# Comparing model performance with a simple baseline\n",
    "\n",
    "In this notebook, we present how to compare the generalization performance of\n",
    "a model to a minimal baseline. In regression, we can use the `DummyRegressor`\n",
    "class to predict the mean target value observed on the training set without\n",
    "using the input features.\n",
    "\n",
    "We now demonstrate how to compute the score of a regression model and then\n",
    "compare it to such a baseline on the California housing dataset."
   ]
  },
  {
   "cell_type": "markdown",
   "id": "23c1a521",
   "metadata": {},
   "source": [
    "<div class=\"admonition note alert alert-info\">\n",
    "<p class=\"first admonition-title\" style=\"font-weight: bold;\">Note</p>\n",
    "<p class=\"last\">If you want a deeper overview regarding this dataset, you can refer to the\n",
    "section named \"Appendix - Datasets description\" at the end of this MOOC.</p>\n",
    "</div>"
   ]
  },
  {
   "cell_type": "code",
   "execution_count": 1,
   "id": "97e9a97a",
   "metadata": {},
   "outputs": [],
   "source": [
    "from sklearn.datasets import fetch_california_housing\n",
    "\n",
    "data, target = fetch_california_housing(return_X_y=True, as_frame=True)\n",
    "target *= 100  # rescale the target in k$"
   ]
  },
  {
   "cell_type": "markdown",
   "id": "da669ee8",
   "metadata": {},
   "source": [
    "Across all evaluations, we will use a `ShuffleSplit` cross-validation\n",
    "splitter with 20% of the data held on the validation side of the split."
   ]
  },
  {
   "cell_type": "code",
   "execution_count": 2,
   "id": "1ecb464e",
   "metadata": {},
   "outputs": [],
   "source": [
    "from sklearn.model_selection import ShuffleSplit\n",
    "\n",
    "cv = ShuffleSplit(n_splits=30, test_size=0.2, random_state=0)"
   ]
  },
  {
   "cell_type": "markdown",
   "id": "fa4e7187",
   "metadata": {},
   "source": [
    "We start by running the cross-validation for a simple decision tree regressor\n",
    "which is our model of interest. Besides, we will store the testing error in a\n",
    "pandas series to make it easier to plot the results."
   ]
  },
  {
   "cell_type": "code",
   "execution_count": 3,
   "id": "099854ff",
   "metadata": {},
   "outputs": [
    {
     "data": {
      "text/plain": [
       "count    30.000000\n",
       "mean     45.773572\n",
       "std       1.215279\n",
       "min      43.048465\n",
       "25%      44.924514\n",
       "50%      45.797923\n",
       "75%      46.786662\n",
       "max      48.280836\n",
       "Name: Decision tree regressor, dtype: float64"
      ]
     },
     "execution_count": 3,
     "metadata": {},
     "output_type": "execute_result"
    }
   ],
   "source": [
    "import pandas as pd\n",
    "from sklearn.tree import DecisionTreeRegressor\n",
    "from sklearn.model_selection import cross_validate\n",
    "\n",
    "regressor = DecisionTreeRegressor()\n",
    "cv_results_tree_regressor = cross_validate(\n",
    "    regressor, data, target, cv=cv, scoring=\"neg_mean_absolute_error\", n_jobs=2\n",
    ")\n",
    "\n",
    "errors_tree_regressor = pd.Series(\n",
    "    -cv_results_tree_regressor[\"test_score\"], name=\"Decision tree regressor\"\n",
    ")\n",
    "errors_tree_regressor.describe()"
   ]
  },
  {
   "cell_type": "markdown",
   "id": "ba1f5515",
   "metadata": {},
   "source": [
    "Then, we evaluate our baseline. This baseline is called a dummy regressor.\n",
    "This dummy regressor will always predict the mean target computed on the\n",
    "training target variable. Therefore, the dummy regressor does not use any\n",
    "information from the input features stored in the dataframe named `data`."
   ]
  },
  {
   "cell_type": "code",
   "execution_count": 4,
   "id": "e363a666",
   "metadata": {
    "lines_to_next_cell": 2
   },
   "outputs": [
    {
     "data": {
      "text/plain": [
       "count    30.000000\n",
       "mean     91.140009\n",
       "std       0.821140\n",
       "min      89.757566\n",
       "25%      90.543652\n",
       "50%      91.034555\n",
       "75%      91.979007\n",
       "max      92.477244\n",
       "Name: Dummy regressor, dtype: float64"
      ]
     },
     "execution_count": 4,
     "metadata": {},
     "output_type": "execute_result"
    }
   ],
   "source": [
    "from sklearn.dummy import DummyRegressor\n",
    "\n",
    "dummy = DummyRegressor(strategy=\"mean\")\n",
    "result_dummy = cross_validate(\n",
    "    dummy, data, target, cv=cv, scoring=\"neg_mean_absolute_error\", n_jobs=2\n",
    ")\n",
    "errors_dummy_regressor = pd.Series(\n",
    "    -result_dummy[\"test_score\"], name=\"Dummy regressor\"\n",
    ")\n",
    "errors_dummy_regressor.describe()"
   ]
  },
  {
   "cell_type": "markdown",
   "id": "bef61840",
   "metadata": {},
   "source": [
    "We now plot the cross-validation testing errors for the mean target baseline\n",
    "and the actual decision tree regressor."
   ]
  },
  {
   "cell_type": "code",
   "execution_count": 5,
   "id": "65492f03",
   "metadata": {},
   "outputs": [
    {
     "data": {
      "text/html": [
       "<div>\n",
       "<style scoped>\n",
       "    .dataframe tbody tr th:only-of-type {\n",
       "        vertical-align: middle;\n",
       "    }\n",
       "\n",
       "    .dataframe tbody tr th {\n",
       "        vertical-align: top;\n",
       "    }\n",
       "\n",
       "    .dataframe thead th {\n",
       "        text-align: right;\n",
       "    }\n",
       "</style>\n",
       "<table border=\"1\" class=\"dataframe\">\n",
       "  <thead>\n",
       "    <tr style=\"text-align: right;\">\n",
       "      <th></th>\n",
       "      <th>Decision tree regressor</th>\n",
       "      <th>Dummy regressor</th>\n",
       "    </tr>\n",
       "  </thead>\n",
       "  <tbody>\n",
       "    <tr>\n",
       "      <th>0</th>\n",
       "      <td>47.152608</td>\n",
       "      <td>90.713153</td>\n",
       "    </tr>\n",
       "    <tr>\n",
       "      <th>1</th>\n",
       "      <td>47.138903</td>\n",
       "      <td>90.539353</td>\n",
       "    </tr>\n",
       "    <tr>\n",
       "      <th>2</th>\n",
       "      <td>44.913801</td>\n",
       "      <td>91.941912</td>\n",
       "    </tr>\n",
       "    <tr>\n",
       "      <th>3</th>\n",
       "      <td>43.998031</td>\n",
       "      <td>90.213912</td>\n",
       "    </tr>\n",
       "    <tr>\n",
       "      <th>4</th>\n",
       "      <td>48.280836</td>\n",
       "      <td>92.015862</td>\n",
       "    </tr>\n",
       "    <tr>\n",
       "      <th>5</th>\n",
       "      <td>44.881846</td>\n",
       "      <td>90.542490</td>\n",
       "    </tr>\n",
       "    <tr>\n",
       "      <th>6</th>\n",
       "      <td>43.845146</td>\n",
       "      <td>89.757566</td>\n",
       "    </tr>\n",
       "    <tr>\n",
       "      <th>7</th>\n",
       "      <td>44.933182</td>\n",
       "      <td>92.477244</td>\n",
       "    </tr>\n",
       "    <tr>\n",
       "      <th>8</th>\n",
       "      <td>45.341924</td>\n",
       "      <td>90.947952</td>\n",
       "    </tr>\n",
       "    <tr>\n",
       "      <th>9</th>\n",
       "      <td>45.269784</td>\n",
       "      <td>91.991373</td>\n",
       "    </tr>\n",
       "    <tr>\n",
       "      <th>10</th>\n",
       "      <td>46.930326</td>\n",
       "      <td>92.023571</td>\n",
       "    </tr>\n",
       "    <tr>\n",
       "      <th>11</th>\n",
       "      <td>46.134801</td>\n",
       "      <td>90.556965</td>\n",
       "    </tr>\n",
       "    <tr>\n",
       "      <th>12</th>\n",
       "      <td>45.836255</td>\n",
       "      <td>91.539567</td>\n",
       "    </tr>\n",
       "    <tr>\n",
       "      <th>13</th>\n",
       "      <td>45.796653</td>\n",
       "      <td>91.185225</td>\n",
       "    </tr>\n",
       "    <tr>\n",
       "      <th>14</th>\n",
       "      <td>46.811594</td>\n",
       "      <td>92.298971</td>\n",
       "    </tr>\n",
       "    <tr>\n",
       "      <th>15</th>\n",
       "      <td>44.642266</td>\n",
       "      <td>91.084639</td>\n",
       "    </tr>\n",
       "    <tr>\n",
       "      <th>16</th>\n",
       "      <td>45.736238</td>\n",
       "      <td>90.984471</td>\n",
       "    </tr>\n",
       "    <tr>\n",
       "      <th>17</th>\n",
       "      <td>47.146600</td>\n",
       "      <td>89.981744</td>\n",
       "    </tr>\n",
       "    <tr>\n",
       "      <th>18</th>\n",
       "      <td>44.921625</td>\n",
       "      <td>90.547140</td>\n",
       "    </tr>\n",
       "    <tr>\n",
       "      <th>19</th>\n",
       "      <td>47.005466</td>\n",
       "      <td>89.820219</td>\n",
       "    </tr>\n",
       "    <tr>\n",
       "      <th>20</th>\n",
       "      <td>43.048465</td>\n",
       "      <td>91.768721</td>\n",
       "    </tr>\n",
       "    <tr>\n",
       "      <th>21</th>\n",
       "      <td>45.928360</td>\n",
       "      <td>92.305556</td>\n",
       "    </tr>\n",
       "    <tr>\n",
       "      <th>22</th>\n",
       "      <td>45.799193</td>\n",
       "      <td>90.503017</td>\n",
       "    </tr>\n",
       "    <tr>\n",
       "      <th>23</th>\n",
       "      <td>46.711865</td>\n",
       "      <td>92.147974</td>\n",
       "    </tr>\n",
       "    <tr>\n",
       "      <th>24</th>\n",
       "      <td>46.174464</td>\n",
       "      <td>91.386320</td>\n",
       "    </tr>\n",
       "    <tr>\n",
       "      <th>25</th>\n",
       "      <td>45.665233</td>\n",
       "      <td>90.815660</td>\n",
       "    </tr>\n",
       "    <tr>\n",
       "      <th>26</th>\n",
       "      <td>43.881028</td>\n",
       "      <td>92.216574</td>\n",
       "    </tr>\n",
       "    <tr>\n",
       "      <th>27</th>\n",
       "      <td>46.157259</td>\n",
       "      <td>90.107460</td>\n",
       "    </tr>\n",
       "    <tr>\n",
       "      <th>28</th>\n",
       "      <td>45.615519</td>\n",
       "      <td>90.620318</td>\n",
       "    </tr>\n",
       "    <tr>\n",
       "      <th>29</th>\n",
       "      <td>47.507893</td>\n",
       "      <td>91.165331</td>\n",
       "    </tr>\n",
       "  </tbody>\n",
       "</table>\n",
       "</div>"
      ],
      "text/plain": [
       "    Decision tree regressor  Dummy regressor\n",
       "0                 47.152608        90.713153\n",
       "1                 47.138903        90.539353\n",
       "2                 44.913801        91.941912\n",
       "3                 43.998031        90.213912\n",
       "4                 48.280836        92.015862\n",
       "5                 44.881846        90.542490\n",
       "6                 43.845146        89.757566\n",
       "7                 44.933182        92.477244\n",
       "8                 45.341924        90.947952\n",
       "9                 45.269784        91.991373\n",
       "10                46.930326        92.023571\n",
       "11                46.134801        90.556965\n",
       "12                45.836255        91.539567\n",
       "13                45.796653        91.185225\n",
       "14                46.811594        92.298971\n",
       "15                44.642266        91.084639\n",
       "16                45.736238        90.984471\n",
       "17                47.146600        89.981744\n",
       "18                44.921625        90.547140\n",
       "19                47.005466        89.820219\n",
       "20                43.048465        91.768721\n",
       "21                45.928360        92.305556\n",
       "22                45.799193        90.503017\n",
       "23                46.711865        92.147974\n",
       "24                46.174464        91.386320\n",
       "25                45.665233        90.815660\n",
       "26                43.881028        92.216574\n",
       "27                46.157259        90.107460\n",
       "28                45.615519        90.620318\n",
       "29                47.507893        91.165331"
      ]
     },
     "execution_count": 5,
     "metadata": {},
     "output_type": "execute_result"
    }
   ],
   "source": [
    "all_errors = pd.concat(\n",
    "    [errors_tree_regressor, errors_dummy_regressor],\n",
    "    axis=1,\n",
    ")\n",
    "all_errors"
   ]
  },
  {
   "cell_type": "code",
   "execution_count": 6,
   "id": "e1ef4b52",
   "metadata": {},
   "outputs": [
    {
     "data": {
      "image/png": "[encoded data removed]",
      "text/plain": [
       "<Figure size 432x288 with 1 Axes>"
      ]
     },
     "metadata": {
      "needs_background": "light"
     },
     "output_type": "display_data"
    }
   ],
   "source": [
    "import matplotlib.pyplot as plt\n",
    "import numpy as np\n",
    "\n",
    "bins = np.linspace(start=0, stop=100, num=80)\n",
    "all_errors.plot.hist(bins=bins, edgecolor=\"black\")\n",
    "plt.legend(bbox_to_anchor=(1.05, 0.8), loc=\"upper left\")\n",
    "plt.xlabel(\"Mean absolute error (k$)\")\n",
    "_ = plt.title(\"Cross-validation testing errors\")"
   ]
  },
  {
   "cell_type": "markdown",
   "id": "f7bf4c10",
   "metadata": {},
   "source": [
    "We see that the generalization performance of our decision tree is far from\n",
    "being perfect: the price predictions are off by more than 45,000 US dollars\n",
    "on average. However it is much better than the mean price baseline. So this\n",
    "confirms that it is possible to predict the housing price much better by\n",
    "using a model that takes into account the values of the input features\n",
    "(housing location, size, neighborhood income...). Such a model makes more\n",
    "informed predictions and approximately divides the error rate by a factor of 2\n",
    "compared to the baseline that ignores the input features.\n",
    "\n",
    "Note that here we used the mean price as the baseline prediction. We could\n",
    "have used the median instead. See the online documentation of the\n",
    "[sklearn.dummy.DummyRegressor](https://scikit-learn.org/stable/modules/generated/sklearn.dummy.DummyRegressor.html)\n",
    "class for other options. For this particular example, using the mean instead\n",
    "of the median does not make much of a difference but this could have been the\n",
    "case for dataset with extreme outliers."
   ]
  }
 ],
 "metadata": {
  "jupytext": {
   "main_language": "python"
  },
  "kernelspec": {
   "display_name": "Python 3 (ipykernel)",
   "language": "python",
   "name": "python3"
  },
  "language_info": {
   "codemirror_mode": {
    "name": "ipython",
    "version": 3
   },
   "file_extension": ".py",
   "mimetype": "text/x-python",
   "name": "python",
   "nbconvert_exporter": "python",
   "pygments_lexer": "ipython3",
   "version": "3.9.10"
  },
  "nbreset": "https://raw.githubusercontent.com/INRIA/scikit-learn-mooc/main/notebooks/cross_validation_baseline.ipynb"
 },
 "nbformat": 4,
 "nbformat_minor": 5
}
