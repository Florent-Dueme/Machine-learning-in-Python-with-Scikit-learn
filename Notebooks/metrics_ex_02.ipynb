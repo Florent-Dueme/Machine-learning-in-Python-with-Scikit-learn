{
 "cells": [
  {
   "cell_type": "markdown",
   "id": "33adc8f7",
   "metadata": {},
   "source": [
    "# 📝 Exercise M7.03\n",
    "\n",
    "As with the classification metrics exercise, we will evaluate the regression\n",
    "metrics within a cross-validation framework to get familiar with the syntax.\n",
    "\n",
    "We will use the Ames house prices dataset."
   ]
  },
  {
   "cell_type": "code",
   "execution_count": 1,
   "id": "76e3bdbe",
   "metadata": {},
   "outputs": [],
   "source": [
    "import pandas as pd\n",
    "import numpy as np\n",
    "\n",
    "ames_housing = pd.read_csv(\"../datasets/house_prices.csv\")\n",
    "data = ames_housing.drop(columns=\"SalePrice\")\n",
    "target = ames_housing[\"SalePrice\"]\n",
    "data = data.select_dtypes(np.number)\n",
    "target /= 1000"
   ]
  },
  {
   "cell_type": "markdown",
   "id": "16314148",
   "metadata": {
    "lines_to_next_cell": 2
   },
   "source": [
    "<div class=\"admonition note alert alert-info\">\n",
    "<p class=\"first admonition-title\" style=\"font-weight: bold;\">Note</p>\n",
    "<p class=\"last\">If you want a deeper overview regarding this dataset, you can refer to the\n",
    "Appendix - Datasets description section at the end of this MOOC.</p>\n",
    "</div>"
   ]
  },
  {
   "cell_type": "markdown",
   "id": "1d008c8f",
   "metadata": {},
   "source": [
    "The first step will be to create a linear regression model."
   ]
  },
  {
   "cell_type": "code",
   "execution_count": 2,
   "id": "e6f687f6",
   "metadata": {},
   "outputs": [],
   "source": [
    "from sklearn.linear_model import LinearRegression\n",
    "\n",
    "regressor = LinearRegression()"
   ]
  },
  {
   "cell_type": "markdown",
   "id": "af540a13",
   "metadata": {},
   "source": [
    "Then, use the `cross_val_score` to estimate the generalization performance of\n",
    "the model. Use a `KFold` cross-validation with 10 folds. Make the use of the\n",
    "$R^2$ score explicit by assigning the parameter `scoring` (even though it is\n",
    "the default score)."
   ]
  },
  {
   "cell_type": "code",
   "execution_count": 3,
   "id": "4b490e76",
   "metadata": {},
   "outputs": [
    {
     "data": {
      "text/plain": [
       "array([0.84390289, 0.85497435, 0.88752303, 0.74951104, 0.81698014,\n",
       "       0.82013355, 0.81554085, 0.81452472, 0.50115778, 0.83330693])"
      ]
     },
     "execution_count": 3,
     "metadata": {},
     "output_type": "execute_result"
    }
   ],
   "source": [
    "from sklearn.model_selection import cross_val_score\n",
    "\n",
    "reg_scores = cross_val_score(regressor, data, target, cv=10, scoring='r2')\n",
    "reg_scores"
   ]
  },
  {
   "cell_type": "markdown",
   "id": "76c3362d",
   "metadata": {},
   "source": [
    "Then, instead of using the $R^2$ score, use the mean absolute error. You need\n",
    "to refer to the documentation for the `scoring` parameter."
   ]
  },
  {
   "cell_type": "code",
   "execution_count": 4,
   "id": "609a864f",
   "metadata": {},
   "outputs": [
    {
     "data": {
      "text/plain": [
       "array([-20.48049905, -21.38003105, -21.26831487, -22.86887664,\n",
       "       -24.79955736, -18.95827641, -20.11793792, -20.5040172 ,\n",
       "       -26.76774564, -21.77871056])"
      ]
     },
     "execution_count": 4,
     "metadata": {},
     "output_type": "execute_result"
    }
   ],
   "source": [
    "reg_absolute_scores = cross_val_score(regressor, data, target, \n",
    "                                      cv=10, scoring='neg_mean_absolute_error')\n",
    "\n",
    "reg_absolute_scores"
   ]
  },
  {
   "cell_type": "markdown",
   "id": "fba532a9",
   "metadata": {},
   "source": [
    "Finally, use the `cross_validate` function and compute multiple scores/errors\n",
    "at once by passing a list of scorers to the `scoring` parameter. You can\n",
    "compute the $R^2$ score and the mean absolute error for instance."
   ]
  },
  {
   "cell_type": "code",
   "execution_count": 5,
   "id": "e4371595",
   "metadata": {},
   "outputs": [
    {
     "data": {
      "text/html": [
       "<div>\n",
       "<style scoped>\n",
       "    .dataframe tbody tr th:only-of-type {\n",
       "        vertical-align: middle;\n",
       "    }\n",
       "\n",
       "    .dataframe tbody tr th {\n",
       "        vertical-align: top;\n",
       "    }\n",
       "\n",
       "    .dataframe thead th {\n",
       "        text-align: right;\n",
       "    }\n",
       "</style>\n",
       "<table border=\"1\" class=\"dataframe\">\n",
       "  <thead>\n",
       "    <tr style=\"text-align: right;\">\n",
       "      <th></th>\n",
       "      <th>fit_time</th>\n",
       "      <th>score_time</th>\n",
       "      <th>test_r2</th>\n",
       "      <th>test_neg_mean_absolute_error</th>\n",
       "    </tr>\n",
       "  </thead>\n",
       "  <tbody>\n",
       "    <tr>\n",
       "      <th>0</th>\n",
       "      <td>0.004727</td>\n",
       "      <td>0.001997</td>\n",
       "      <td>0.843903</td>\n",
       "      <td>-20.480499</td>\n",
       "    </tr>\n",
       "    <tr>\n",
       "      <th>1</th>\n",
       "      <td>0.003231</td>\n",
       "      <td>0.001918</td>\n",
       "      <td>0.854974</td>\n",
       "      <td>-21.380031</td>\n",
       "    </tr>\n",
       "    <tr>\n",
       "      <th>2</th>\n",
       "      <td>0.003237</td>\n",
       "      <td>0.001881</td>\n",
       "      <td>0.887523</td>\n",
       "      <td>-21.268315</td>\n",
       "    </tr>\n",
       "    <tr>\n",
       "      <th>3</th>\n",
       "      <td>0.003134</td>\n",
       "      <td>0.001902</td>\n",
       "      <td>0.749511</td>\n",
       "      <td>-22.868877</td>\n",
       "    </tr>\n",
       "    <tr>\n",
       "      <th>4</th>\n",
       "      <td>0.003301</td>\n",
       "      <td>0.001778</td>\n",
       "      <td>0.816980</td>\n",
       "      <td>-24.799557</td>\n",
       "    </tr>\n",
       "    <tr>\n",
       "      <th>5</th>\n",
       "      <td>0.003310</td>\n",
       "      <td>0.001979</td>\n",
       "      <td>0.820134</td>\n",
       "      <td>-18.958276</td>\n",
       "    </tr>\n",
       "    <tr>\n",
       "      <th>6</th>\n",
       "      <td>0.003197</td>\n",
       "      <td>0.001868</td>\n",
       "      <td>0.815541</td>\n",
       "      <td>-20.117938</td>\n",
       "    </tr>\n",
       "    <tr>\n",
       "      <th>7</th>\n",
       "      <td>0.003175</td>\n",
       "      <td>0.001816</td>\n",
       "      <td>0.814525</td>\n",
       "      <td>-20.504017</td>\n",
       "    </tr>\n",
       "    <tr>\n",
       "      <th>8</th>\n",
       "      <td>0.003005</td>\n",
       "      <td>0.001822</td>\n",
       "      <td>0.501158</td>\n",
       "      <td>-26.767746</td>\n",
       "    </tr>\n",
       "    <tr>\n",
       "      <th>9</th>\n",
       "      <td>0.003002</td>\n",
       "      <td>0.001902</td>\n",
       "      <td>0.833307</td>\n",
       "      <td>-21.778711</td>\n",
       "    </tr>\n",
       "  </tbody>\n",
       "</table>\n",
       "</div>"
      ],
      "text/plain": [
       "   fit_time  score_time   test_r2  test_neg_mean_absolute_error\n",
       "0  0.004727    0.001997  0.843903                    -20.480499\n",
       "1  0.003231    0.001918  0.854974                    -21.380031\n",
       "2  0.003237    0.001881  0.887523                    -21.268315\n",
       "3  0.003134    0.001902  0.749511                    -22.868877\n",
       "4  0.003301    0.001778  0.816980                    -24.799557\n",
       "5  0.003310    0.001979  0.820134                    -18.958276\n",
       "6  0.003197    0.001868  0.815541                    -20.117938\n",
       "7  0.003175    0.001816  0.814525                    -20.504017\n",
       "8  0.003005    0.001822  0.501158                    -26.767746\n",
       "9  0.003002    0.001902  0.833307                    -21.778711"
      ]
     },
     "execution_count": 5,
     "metadata": {},
     "output_type": "execute_result"
    }
   ],
   "source": [
    "import pandas as pd\n",
    "from sklearn.model_selection import cross_validate\n",
    "\n",
    "cv_results = cross_validate(regressor, data, target, cv=10,\n",
    "                           scoring=['r2', 'neg_mean_absolute_error'])\n",
    "\n",
    "cv_results = pd.DataFrame(cv_results)\n",
    "cv_results"
   ]
  },
  {
   "cell_type": "code",
   "execution_count": null,
   "id": "af2467c2",
   "metadata": {},
   "outputs": [],
   "source": []
  }
 ],
 "metadata": {
  "jupytext": {
   "encoding": "# -*- coding: utf-8 -*-",
   "main_language": "python"
  },
  "kernelspec": {
   "display_name": "Python 3 (ipykernel)",
   "language": "python",
   "name": "python3"
  },
  "language_info": {
   "codemirror_mode": {
    "name": "ipython",
    "version": 3
   },
   "file_extension": ".py",
   "mimetype": "text/x-python",
   "name": "python",
   "nbconvert_exporter": "python",
   "pygments_lexer": "ipython3",
   "version": "3.9.10"
  },
  "nbreset": "https://raw.githubusercontent.com/INRIA/scikit-learn-mooc/main/notebooks/metrics_ex_02.ipynb"
 },
 "nbformat": 4,
 "nbformat_minor": 5
}
