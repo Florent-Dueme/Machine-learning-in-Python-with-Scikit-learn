{
 "cells": [
  {
   "cell_type": "markdown",
   "id": "00f3dc23",
   "metadata": {},
   "source": [
    "# 📝 Exercise M1.04\n",
    "\n",
    "The goal of this exercise is to evaluate the impact of using an arbitrary\n",
    "integer encoding for categorical variables along with a linear\n",
    "classification model such as Logistic Regression.\n",
    "\n",
    "To do so, let's try to use `OrdinalEncoder` to preprocess the categorical\n",
    "variables. This preprocessor is assembled in a pipeline with\n",
    "`LogisticRegression`. The generalization performance of the pipeline can be\n",
    "evaluated by cross-validation and then compared to the score obtained when\n",
    "using `OneHotEncoder` or to some other baseline score.\n",
    "\n",
    "First, we load the dataset."
   ]
  },
  {
   "cell_type": "code",
   "execution_count": 1,
   "id": "18c574d5",
   "metadata": {},
   "outputs": [],
   "source": [
    "import pandas as pd\n",
    "\n",
    "adult_census = pd.read_csv(\"../datasets/adult-census.csv\")"
   ]
  },
  {
   "cell_type": "code",
   "execution_count": 2,
   "id": "9d3d8bc2",
   "metadata": {},
   "outputs": [],
   "source": [
    "target_name = \"class\"\n",
    "target = adult_census[target_name]\n",
    "data = adult_census.drop(columns=[target_name, \"education-num\"])"
   ]
  },
  {
   "cell_type": "markdown",
   "id": "22ab0aae",
   "metadata": {},
   "source": [
    "In the previous notebook, we used `sklearn.compose.make_column_selector` to\n",
    "automatically select columns with a specific data type (also called `dtype`).\n",
    "Here, we will use this selector to get only the columns containing strings\n",
    "(column with `object` dtype) that correspond to categorical features in our\n",
    "dataset."
   ]
  },
  {
   "cell_type": "code",
   "execution_count": 3,
   "id": "c2c5893a",
   "metadata": {},
   "outputs": [],
   "source": [
    "from sklearn.compose import make_column_selector as selector\n",
    "\n",
    "categorical_columns_selector = selector(dtype_include=object)\n",
    "categorical_columns = categorical_columns_selector(data)\n",
    "data_categorical = data[categorical_columns]"
   ]
  },
  {
   "cell_type": "code",
   "execution_count": 26,
   "id": "0563d394",
   "metadata": {},
   "outputs": [
    {
     "data": {
      "text/plain": [
       "42"
      ]
     },
     "execution_count": 26,
     "metadata": {},
     "output_type": "execute_result"
    }
   ],
   "source": [
    "len(data_categorical[\"native-country\"].unique())"
   ]
  },
  {
   "cell_type": "markdown",
   "id": "7a1a9ad9",
   "metadata": {},
   "source": [
    "Define a scikit-learn pipeline composed of an `OrdinalEncoder` and a\n",
    "`LogisticRegression` classifier.\n",
    "\n",
    "Because `OrdinalEncoder` can raise errors if it sees an unknown category at\n",
    "prediction time, you can set the `handle_unknown=\"use_encoded_value\"` and\n",
    "`unknown_value` parameters. You can refer to the\n",
    "[scikit-learn documentation](https://scikit-learn.org/stable/modules/generated/sklearn.preprocessing.OrdinalEncoder.html)\n",
    "for more details regarding these parameters."
   ]
  },
  {
   "cell_type": "code",
   "execution_count": 27,
   "id": "6daa37a5",
   "metadata": {},
   "outputs": [],
   "source": [
    "from sklearn.pipeline import make_pipeline\n",
    "from sklearn.preprocessing import OrdinalEncoder\n",
    "from sklearn.linear_model import LogisticRegression\n",
    "import numpy as np\n",
    "\n",
    "pipeline = make_pipeline(OrdinalEncoder(handle_unknown=\"use_encoded_value\", unknown_value=42), LogisticRegression(max_iter=500))"
   ]
  },
  {
   "cell_type": "markdown",
   "id": "21428d0d",
   "metadata": {},
   "source": [
    "Your model is now defined. Evaluate it using a cross-validation using\n",
    "`sklearn.model_selection.cross_validate`.\n",
    "\n",
    "<div class=\"admonition note alert alert-info\">\n",
    "<p class=\"first admonition-title\" style=\"font-weight: bold;\">Note</p>\n",
    "<p class=\"last\">Be aware that if an error happened during the cross-validation,\n",
    "<tt class=\"docutils literal\">cross_validate</tt> will raise a warning and return NaN (Not a Number)\n",
    "as scores.  To make it raise a standard Python exception with a traceback,\n",
    "you can pass the <tt class=\"docutils literal\"><span class=\"pre\">error_score=\"raise\"</span></tt> argument in the call to\n",
    "<tt class=\"docutils literal\">cross_validate</tt>. An exception will be raised instead of a warning at the first\n",
    "encountered problem  and <tt class=\"docutils literal\">cross_validate</tt> will stop right away instead of\n",
    "returning NaN values. This is particularly handy when developing\n",
    "complex machine learning pipelines.</p>\n",
    "</div>"
   ]
  },
  {
   "cell_type": "code",
   "execution_count": 28,
   "id": "8af7c0da",
   "metadata": {},
   "outputs": [
    {
     "data": {
      "text/plain": [
       "{'fit_time': array([0.4440515 , 0.34848809, 0.39055705, 0.40279984, 0.38382578]),\n",
       " 'score_time': array([0.03739429, 0.03321052, 0.03082824, 0.03567886, 0.03271294]),\n",
       " 'test_score': array([0.75514382, 0.75555328, 0.75573301, 0.75307125, 0.75788288])}"
      ]
     },
     "execution_count": 28,
     "metadata": {},
     "output_type": "execute_result"
    }
   ],
   "source": [
    "from sklearn.model_selection import cross_validate\n",
    "\n",
    "cross_validate(pipeline, data_categorical, target)"
   ]
  },
  {
   "cell_type": "markdown",
   "id": "39271b2f",
   "metadata": {},
   "source": [
    "Now, we would like to compare the generalization performance of our previous\n",
    "model with a new model where instead of using an `OrdinalEncoder`, we will\n",
    "use a `OneHotEncoder`. Repeat the model evaluation using cross-validation.\n",
    "Compare the score of both models and conclude on the impact of choosing a\n",
    "specific encoding strategy when using a linear model."
   ]
  },
  {
   "cell_type": "code",
   "execution_count": 30,
   "id": "a44ded0e",
   "metadata": {},
   "outputs": [
    {
     "data": {
      "text/plain": [
       "{'fit_time': array([0.96360493, 0.90045619, 0.83822179, 0.89815116, 0.8910346 ]),\n",
       " 'score_time': array([0.03137755, 0.03309655, 0.0326817 , 0.03462696, 0.0318625 ]),\n",
       " 'test_score': array([0.83222438, 0.83560242, 0.82872645, 0.83312858, 0.83466421])}"
      ]
     },
     "execution_count": 30,
     "metadata": {},
     "output_type": "execute_result"
    }
   ],
   "source": [
    "from sklearn.preprocessing import OneHotEncoder\n",
    "\n",
    "pipeline_2 = make_pipeline(OneHotEncoder(handle_unknown=\"ignore\"), LogisticRegression(max_iter=500))\n",
    "\n",
    "cross_validate(pipeline_2, data_categorical, target)"
   ]
  },
  {
   "cell_type": "code",
   "execution_count": null,
   "id": "8b1e65d6",
   "metadata": {},
   "outputs": [],
   "source": []
  }
 ],
 "metadata": {
  "jupytext": {
   "encoding": "# -*- coding: utf-8 -*-",
   "main_language": "python"
  },
  "kernelspec": {
   "display_name": "Python 3 (ipykernel)",
   "language": "python",
   "name": "python3"
  },
  "language_info": {
   "codemirror_mode": {
    "name": "ipython",
    "version": 3
   },
   "file_extension": ".py",
   "mimetype": "text/x-python",
   "name": "python",
   "nbconvert_exporter": "python",
   "pygments_lexer": "ipython3",
   "version": "3.9.10"
  },
  "nbreset": "https://raw.githubusercontent.com/INRIA/scikit-learn-mooc/main/notebooks/03_categorical_pipeline_ex_01.ipynb"
 },
 "nbformat": 4,
 "nbformat_minor": 5
}
