{
 "cells": [
  {
   "cell_type": "markdown",
   "id": "f2c937d3",
   "metadata": {},
   "source": [
    "# 📝 Exercise M1.03\n",
    "\n",
    "The goal of this exercise is to compare the performance of our classifier in\n",
    "the previous notebook (roughly 81% accuracy with `LogisticRegression`) to\n",
    "some simple baseline classifiers. The simplest baseline classifier is one\n",
    "that always predicts the same class, irrespective of the input data.\n",
    "\n",
    "- What would be the score of a model that always predicts `' >50K'`?\n",
    "- What would be the score of a model that always predicts `' <=50K'`?\n",
    "- Is 81% or 82% accuracy a good score for this problem?\n",
    "\n",
    "Use a `DummyClassifier` and do a train-test split to evaluate\n",
    "its accuracy on the test set. This\n",
    "[link](https://scikit-learn.org/stable/modules/model_evaluation.html#dummy-estimators)\n",
    "shows a few examples of how to evaluate the generalization performance of these\n",
    "baseline models."
   ]
  },
  {
   "cell_type": "code",
   "execution_count": 1,
   "id": "ef6c8819",
   "metadata": {},
   "outputs": [],
   "source": [
    "import pandas as pd\n",
    "\n",
    "adult_census = pd.read_csv(\"../datasets/adult-census.csv\")"
   ]
  },
  {
   "cell_type": "markdown",
   "id": "0dd08785",
   "metadata": {},
   "source": [
    "We will first split our dataset to have the target separated from the data\n",
    "used to train our predictive model."
   ]
  },
  {
   "cell_type": "code",
   "execution_count": 2,
   "id": "0349edb3",
   "metadata": {},
   "outputs": [],
   "source": [
    "target_name = \"class\"\n",
    "target = adult_census[target_name]\n",
    "data = adult_census.drop(columns=target_name)"
   ]
  },
  {
   "cell_type": "markdown",
   "id": "a768d5f7",
   "metadata": {},
   "source": [
    "We start by selecting only the numerical columns as seen in the previous\n",
    "notebook."
   ]
  },
  {
   "cell_type": "code",
   "execution_count": 3,
   "id": "643bd485",
   "metadata": {},
   "outputs": [],
   "source": [
    "numerical_columns = [\n",
    "    \"age\", \"capital-gain\", \"capital-loss\", \"hours-per-week\"]\n",
    "\n",
    "data_numeric = data[numerical_columns]"
   ]
  },
  {
   "cell_type": "markdown",
   "id": "89f08b3e",
   "metadata": {},
   "source": [
    "Split the data and target into a train and test set."
   ]
  },
  {
   "cell_type": "code",
   "execution_count": 15,
   "id": "b63f9eca",
   "metadata": {},
   "outputs": [],
   "source": [
    "# from sklearn.model_selection import train_test_split\n",
    "\n",
    "train_data, test_data, train_target, test_target = train_test_split(\n",
    "data_numeric, target, test_size=.25, random_state=5)\n"
   ]
  },
  {
   "cell_type": "markdown",
   "id": "6759dc50",
   "metadata": {},
   "source": [
    "Use a `DummyClassifier` such that the resulting classifier will always\n",
    "predict the class `' >50K'`. What is the accuracy score on the test set?\n",
    "Repeat the experiment by always predicting the class `' <=50K'`.\n",
    "\n",
    "Hint: you can set the `strategy` parameter of the `DummyClassifier` to\n",
    "achieve the desired behavior."
   ]
  },
  {
   "cell_type": "code",
   "execution_count": 24,
   "id": "7e102663",
   "metadata": {},
   "outputs": [],
   "source": [
    "from sklearn.dummy import DummyClassifier\n",
    "\n",
    "dumb_model = DummyClassifier(strategy=\"constant\", constant=\" >50K\")"
   ]
  },
  {
   "cell_type": "code",
   "execution_count": 25,
   "id": "8383240c",
   "metadata": {},
   "outputs": [
    {
     "name": "stdout",
     "output_type": "stream",
     "text": [
      "Accuracy of logistic regression: 0.240\n"
     ]
    }
   ],
   "source": [
    "dumb_model.fit(train_data, train_target)\n",
    "\n",
    "accuracy = dumb_model.score(test_data, test_target)\n",
    "print(f\"Accuracy of logistic regression: {accuracy:.3f}\")"
   ]
  },
  {
   "cell_type": "code",
   "execution_count": 22,
   "id": "cfc4e7cd",
   "metadata": {},
   "outputs": [],
   "source": [
    "dumb_model_2 = DummyClassifier(strategy=\"constant\", constant=\" <=50K\")"
   ]
  },
  {
   "cell_type": "code",
   "execution_count": 26,
   "id": "3dc3d075",
   "metadata": {},
   "outputs": [
    {
     "name": "stdout",
     "output_type": "stream",
     "text": [
      "Accuracy of logistic regression: 0.760\n"
     ]
    }
   ],
   "source": [
    "dumb_model_2.fit(train_data, train_target)\n",
    "\n",
    "accuracy_2 = dumb_model_2.score(test_data, test_target)\n",
    "print(f\"Accuracy of logistic regression: {accuracy_2:.3f}\")"
   ]
  },
  {
   "cell_type": "code",
   "execution_count": null,
   "id": "6a6b0cd8",
   "metadata": {},
   "outputs": [],
   "source": []
  }
 ],
 "metadata": {
  "jupytext": {
   "encoding": "# -*- coding: utf-8 -*-",
   "main_language": "python"
  },
  "kernelspec": {
   "display_name": "Python 3 (ipykernel)",
   "language": "python",
   "name": "python3"
  },
  "language_info": {
   "codemirror_mode": {
    "name": "ipython",
    "version": 3
   },
   "file_extension": ".py",
   "mimetype": "text/x-python",
   "name": "python",
   "nbconvert_exporter": "python",
   "pygments_lexer": "ipython3",
   "version": "3.9.10"
  },
  "nbreset": "https://raw.githubusercontent.com/INRIA/scikit-learn-mooc/main/notebooks/02_numerical_pipeline_ex_01.ipynb"
 },
 "nbformat": 4,
 "nbformat_minor": 5
}
