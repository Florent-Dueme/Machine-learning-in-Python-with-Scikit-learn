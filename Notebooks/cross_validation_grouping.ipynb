{
 "cells": [
  {
   "cell_type": "markdown",
   "id": "5080ba71",
   "metadata": {},
   "source": [
    "# Sample grouping\n",
    "We are going to linger into the concept of sample groups. As in the previous\n",
    "section, we will give an example to highlight some surprising results. This\n",
    "time, we will use the handwritten digits dataset."
   ]
  },
  {
   "cell_type": "code",
   "execution_count": 1,
   "id": "76411e1d",
   "metadata": {},
   "outputs": [],
   "source": [
    "from sklearn.datasets import load_digits\n",
    "\n",
    "digits = load_digits()\n",
    "data, target = digits.data, digits.target"
   ]
  },
  {
   "cell_type": "markdown",
   "id": "faf4fab2",
   "metadata": {},
   "source": [
    "We will recreate the same model used in the previous exercise:\n",
    "a logistic regression classifier with preprocessor to scale the data."
   ]
  },
  {
   "cell_type": "code",
   "execution_count": 3,
   "id": "e1a5a3e2",
   "metadata": {},
   "outputs": [],
   "source": [
    "from sklearn.preprocessing import MinMaxScaler\n",
    "from sklearn.linear_model import LogisticRegression\n",
    "from sklearn.pipeline import make_pipeline\n",
    "\n",
    "model = make_pipeline(MinMaxScaler(), LogisticRegression(max_iter=1_000))"
   ]
  },
  {
   "cell_type": "markdown",
   "id": "a089bf53",
   "metadata": {},
   "source": [
    "We will use the same baseline model. We will use a `KFold` cross-validation\n",
    "without shuffling the data at first."
   ]
  },
  {
   "cell_type": "code",
   "execution_count": 4,
   "id": "7afbd88f",
   "metadata": {},
   "outputs": [
    {
     "name": "stdout",
     "output_type": "stream",
     "text": [
      "The average accuracy is 0.931 +/- 0.026\n"
     ]
    }
   ],
   "source": [
    "from sklearn.model_selection import cross_val_score, KFold\n",
    "\n",
    "cv = KFold(shuffle=False)\n",
    "test_score_no_shuffling = cross_val_score(model, data, target, cv=cv,\n",
    "                                          n_jobs=2)\n",
    "print(f\"The average accuracy is \"\n",
    "      f\"{test_score_no_shuffling.mean():.3f} +/- \"\n",
    "      f\"{test_score_no_shuffling.std():.3f}\")"
   ]
  },
  {
   "cell_type": "markdown",
   "id": "1200e3b2",
   "metadata": {},
   "source": [
    "Now, let's repeat the experiment by shuffling the data within the\n",
    "cross-validation."
   ]
  },
  {
   "cell_type": "code",
   "execution_count": 5,
   "id": "ecf009f2",
   "metadata": {},
   "outputs": [
    {
     "name": "stdout",
     "output_type": "stream",
     "text": [
      "The average accuracy is 0.969 +/- 0.011\n"
     ]
    }
   ],
   "source": [
    "cv = KFold(shuffle=True)\n",
    "test_score_with_shuffling = cross_val_score(model, data, target, cv=cv,\n",
    "                                            n_jobs=2)\n",
    "print(f\"The average accuracy is \"\n",
    "      f\"{test_score_with_shuffling.mean():.3f} +/- \"\n",
    "      f\"{test_score_with_shuffling.std():.3f}\")"
   ]
  },
  {
   "cell_type": "markdown",
   "id": "850cc2f9",
   "metadata": {},
   "source": [
    "We observe that shuffling the data improves the mean accuracy.\n",
    "We could go a little further and plot the distribution of the testing\n",
    "score. We can first concatenate the test scores."
   ]
  },
  {
   "cell_type": "code",
   "execution_count": 6,
   "id": "9c5bce27",
   "metadata": {},
   "outputs": [],
   "source": [
    "import pandas as pd\n",
    "\n",
    "all_scores = pd.DataFrame(\n",
    "    [test_score_no_shuffling, test_score_with_shuffling],\n",
    "    index=[\"KFold without shuffling\", \"KFold with shuffling\"],\n",
    ").T"
   ]
  },
  {
   "cell_type": "markdown",
   "id": "abccf10e",
   "metadata": {},
   "source": [
    "Let's plot the distribution now."
   ]
  },
  {
   "cell_type": "code",
   "execution_count": 7,
   "id": "eba66ea8",
   "metadata": {},
   "outputs": [
    {
     "data": {
      "image/png": "[encoded data removed]",
      "text/plain": [
       "<Figure size 432x288 with 1 Axes>"
      ]
     },
     "metadata": {
      "needs_background": "light"
     },
     "output_type": "display_data"
    }
   ],
   "source": [
    "import matplotlib.pyplot as plt\n",
    "\n",
    "all_scores.plot.hist(bins=10, edgecolor=\"black\", alpha=0.7)\n",
    "plt.xlim([0.8, 1.0])\n",
    "plt.xlabel(\"Accuracy score\")\n",
    "plt.legend(bbox_to_anchor=(1.05, 0.8), loc=\"upper left\")\n",
    "_ = plt.title(\"Distribution of the test scores\")"
   ]
  },
  {
   "cell_type": "markdown",
   "id": "3601b1ca",
   "metadata": {},
   "source": [
    "The cross-validation testing error that uses the shuffling has less\n",
    "variance than the one that does not impose any shuffling. It means that some\n",
    "specific fold leads to a low score in this case."
   ]
  },
  {
   "cell_type": "code",
   "execution_count": 8,
   "id": "27aef719",
   "metadata": {},
   "outputs": [
    {
     "name": "stdout",
     "output_type": "stream",
     "text": [
      "[0.94166667 0.89722222 0.94986072 0.9637883  0.90250696]\n"
     ]
    }
   ],
   "source": [
    "print(test_score_no_shuffling)"
   ]
  },
  {
   "cell_type": "markdown",
   "id": "cb2f519a",
   "metadata": {},
   "source": [
    "Thus, there is an underlying structure in the data that shuffling will break\n",
    "and get better results. To get a better understanding, we should read the\n",
    "documentation shipped with the dataset."
   ]
  },
  {
   "cell_type": "code",
   "execution_count": 9,
   "id": "28be4983",
   "metadata": {},
   "outputs": [
    {
     "name": "stdout",
     "output_type": "stream",
     "text": [
      ".. _digits_dataset:\n",
      "\n",
      "Optical recognition of handwritten digits dataset\n",
      "--------------------------------------------------\n",
      "\n",
      "**Data Set Characteristics:**\n",
      "\n",
      "    :Number of Instances: 1797\n",
      "    :Number of Attributes: 64\n",
      "    :Attribute Information: 8x8 image of integer pixels in the range 0..16.\n",
      "    :Missing Attribute Values: None\n",
      "    :Creator: E. Alpaydin (alpaydin '@' boun.edu.tr)\n",
      "    :Date: July; 1998\n",
      "\n",
      "This is a copy of the test set of the UCI ML hand-written digits datasets\n",
      "https://archive.ics.uci.edu/ml/datasets/Optical+Recognition+of+Handwritten+Digits\n",
      "\n",
      "The data set contains images of hand-written digits: 10 classes where\n",
      "each class refers to a digit.\n",
      "\n",
      "Preprocessing programs made available by NIST were used to extract\n",
      "normalized bitmaps of handwritten digits from a preprinted form. From a\n",
      "total of 43 people, 30 contributed to the training set and different 13\n",
      "to the test set. 32x32 bitmaps are divided into nonoverlapping blocks of\n",
      "4x4 and the number of on pixels are counted in each block. This generates\n",
      "an input matrix of 8x8 where each element is an integer in the range\n",
      "0..16. This reduces dimensionality and gives invariance to small\n",
      "distortions.\n",
      "\n",
      "For info on NIST preprocessing routines, see M. D. Garris, J. L. Blue, G.\n",
      "T. Candela, D. L. Dimmick, J. Geist, P. J. Grother, S. A. Janet, and C.\n",
      "L. Wilson, NIST Form-Based Handprint Recognition System, NISTIR 5469,\n",
      "1994.\n",
      "\n",
      ".. topic:: References\n",
      "\n",
      "  - C. Kaynak (1995) Methods of Combining Multiple Classifiers and Their\n",
      "    Applications to Handwritten Digit Recognition, MSc Thesis, Institute of\n",
      "    Graduate Studies in Science and Engineering, Bogazici University.\n",
      "  - E. Alpaydin, C. Kaynak (1998) Cascading Classifiers, Kybernetika.\n",
      "  - Ken Tang and Ponnuthurai N. Suganthan and Xi Yao and A. Kai Qin.\n",
      "    Linear dimensionalityreduction using relevance weighted LDA. School of\n",
      "    Electrical and Electronic Engineering Nanyang Technological University.\n",
      "    2005.\n",
      "  - Claudio Gentile. A New Approximate Maximal Margin Classification\n",
      "    Algorithm. NIPS. 2000.\n",
      "\n"
     ]
    }
   ],
   "source": [
    "print(digits.DESCR)"
   ]
  },
  {
   "cell_type": "markdown",
   "id": "2ac70126",
   "metadata": {},
   "source": [
    "If we read carefully, 13 writers wrote the digits of our dataset, accounting\n",
    "for a total amount of 1797 samples. Thus, a writer wrote several times the\n",
    "same numbers. Let's suppose that the writer samples are grouped.\n",
    "Subsequently, not shuffling the data will keep all writer samples together\n",
    "either in the training or the testing sets. Mixing the data will break this\n",
    "structure, and therefore digits written by the same writer will be available\n",
    "in both the training and testing sets.\n",
    "\n",
    "Besides, a writer will usually tend to write digits in the same manner. Thus,\n",
    "our model will learn to identify a writer's pattern for each digit instead of\n",
    "recognizing the digit itself.\n",
    "\n",
    "We can solve this problem by ensuring that the data associated with a writer\n",
    "should either belong to the training or the testing set. Thus, we want to\n",
    "group samples for each writer.\n",
    "\n",
    "Indeed, we can recover the groups by looking at the target variable."
   ]
  },
  {
   "cell_type": "code",
   "execution_count": 10,
   "id": "1dd9ca75",
   "metadata": {},
   "outputs": [
    {
     "data": {
      "text/plain": [
       "array([0, 1, 2, 3, 4, 5, 6, 7, 8, 9, 0, 1, 2, 3, 4, 5, 6, 7, 8, 9, 0, 1,\n",
       "       2, 3, 4, 5, 6, 7, 8, 9, 0, 9, 5, 5, 6, 5, 0, 9, 8, 9, 8, 4, 1, 7,\n",
       "       7, 3, 5, 1, 0, 0, 2, 2, 7, 8, 2, 0, 1, 2, 6, 3, 3, 7, 3, 3, 4, 6,\n",
       "       6, 6, 4, 9, 1, 5, 0, 9, 5, 2, 8, 2, 0, 0, 1, 7, 6, 3, 2, 1, 7, 4,\n",
       "       6, 3, 1, 3, 9, 1, 7, 6, 8, 4, 3, 1, 4, 0, 5, 3, 6, 9, 6, 1, 7, 5,\n",
       "       4, 4, 7, 2, 8, 2, 2, 5, 7, 9, 5, 4, 8, 8, 4, 9, 0, 8, 9, 8, 0, 1,\n",
       "       2, 3, 4, 5, 6, 7, 8, 9, 0, 1, 2, 3, 4, 5, 6, 7, 8, 9, 0, 1, 2, 3,\n",
       "       4, 5, 6, 7, 8, 9, 0, 9, 5, 5, 6, 5, 0, 9, 8, 9, 8, 4, 1, 7, 7, 3,\n",
       "       5, 1, 0, 0, 2, 2, 7, 8, 2, 0, 1, 2, 6, 3, 3, 7, 3, 3, 4, 6, 6, 6,\n",
       "       4, 9])"
      ]
     },
     "execution_count": 10,
     "metadata": {},
     "output_type": "execute_result"
    }
   ],
   "source": [
    "target[:200]"
   ]
  },
  {
   "cell_type": "markdown",
   "id": "89b356d8",
   "metadata": {},
   "source": [
    "\n",
    "It might not be obvious at first, but there is a structure in the target:\n",
    "there is a repetitive pattern that always starts by some series of ordered\n",
    "digits from 0 to 9 followed by random digits at a certain point. If we look\n",
    "in details, we see that there is 14 such patterns, always with around 130\n",
    "samples each.\n",
    "\n",
    "Even if it is not exactly corresponding to the 13 writers in the\n",
    "documentation (maybe one writer wrote two series of digits), we can\n",
    "make the hypothesis that each of these patterns corresponds to a different\n",
    "writer and thus a different group."
   ]
  },
  {
   "cell_type": "code",
   "execution_count": 11,
   "id": "08fe7cb8",
   "metadata": {},
   "outputs": [],
   "source": [
    "from itertools import count\n",
    "import numpy as np\n",
    "\n",
    "# defines the lower and upper bounds of sample indices\n",
    "# for each writer\n",
    "writer_boundaries = [0, 130, 256, 386, 516, 646, 776, 915, 1029,\n",
    "                     1157, 1287, 1415, 1545, 1667, 1797]\n",
    "groups = np.zeros_like(target)\n",
    "lower_bounds = writer_boundaries[:-1]\n",
    "upper_bounds = writer_boundaries[1:]\n",
    "\n",
    "for group_id, lb, up in zip(count(), lower_bounds, upper_bounds):\n",
    "    groups[lb:up] = group_id"
   ]
  },
  {
   "cell_type": "markdown",
   "id": "7c50f977",
   "metadata": {},
   "source": [
    "We can check the grouping by plotting the indices linked to writer ids."
   ]
  },
  {
   "cell_type": "code",
   "execution_count": 12,
   "id": "ac668fe0",
   "metadata": {},
   "outputs": [
    {
     "data": {
      "image/png": "[encoded data removed]",
      "text/plain": [
       "<Figure size 432x288 with 1 Axes>"
      ]
     },
     "metadata": {
      "needs_background": "light"
     },
     "output_type": "display_data"
    }
   ],
   "source": [
    "plt.plot(groups)\n",
    "plt.yticks(np.unique(groups))\n",
    "plt.xticks(writer_boundaries, rotation=90)\n",
    "plt.xlabel(\"Target index\")\n",
    "plt.ylabel(\"Writer index\")\n",
    "_ = plt.title(\"Underlying writer groups existing in the target\")"
   ]
  },
  {
   "cell_type": "markdown",
   "id": "d34a925d",
   "metadata": {},
   "source": [
    "Once we group the digits by writer, we can use cross-validation to take this\n",
    "information into account: the class containing `Group` should be used."
   ]
  },
  {
   "cell_type": "code",
   "execution_count": 13,
   "id": "50e8e4a8",
   "metadata": {},
   "outputs": [
    {
     "name": "stdout",
     "output_type": "stream",
     "text": [
      "The average accuracy is 0.920 +/- 0.021\n"
     ]
    }
   ],
   "source": [
    "from sklearn.model_selection import GroupKFold\n",
    "\n",
    "cv = GroupKFold()\n",
    "test_score = cross_val_score(model, data, target, groups=groups, cv=cv,\n",
    "                             n_jobs=2)\n",
    "print(f\"The average accuracy is \"\n",
    "      f\"{test_score.mean():.3f} +/- \"\n",
    "      f\"{test_score.std():.3f}\")"
   ]
  },
  {
   "cell_type": "markdown",
   "id": "809c564a",
   "metadata": {},
   "source": [
    "We see that this strategy is less optimistic regarding the model generalization\n",
    "performance. However, this is the most reliable if our goal is to make\n",
    "handwritten digits recognition writers independent. Besides, we can as well\n",
    "see that the standard deviation was reduced."
   ]
  },
  {
   "cell_type": "code",
   "execution_count": 14,
   "id": "f58589a6",
   "metadata": {},
   "outputs": [],
   "source": [
    "all_scores = pd.DataFrame(\n",
    "    [test_score_no_shuffling, test_score_with_shuffling, test_score],\n",
    "    index=[\"KFold without shuffling\", \"KFold with shuffling\",\n",
    "           \"KFold with groups\"],\n",
    ").T"
   ]
  },
  {
   "cell_type": "code",
   "execution_count": 15,
   "id": "a72dba19",
   "metadata": {},
   "outputs": [
    {
     "data": {
      "image/png": "[encoded data removed]",
      "text/plain": [
       "<Figure size 432x288 with 1 Axes>"
      ]
     },
     "metadata": {
      "needs_background": "light"
     },
     "output_type": "display_data"
    }
   ],
   "source": [
    "all_scores.plot.hist(bins=10, edgecolor=\"black\", alpha=0.7)\n",
    "plt.xlim([0.8, 1.0])\n",
    "plt.xlabel(\"Accuracy score\")\n",
    "plt.legend(bbox_to_anchor=(1.05, 0.8), loc=\"upper left\")\n",
    "_ = plt.title(\"Distribution of the test scores\")"
   ]
  },
  {
   "cell_type": "markdown",
   "id": "f5da68f6",
   "metadata": {},
   "source": [
    "As a conclusion, it is really important to take any sample grouping pattern\n",
    "into account when evaluating a model. Otherwise, the results obtained will\n",
    "be over-optimistic in regards with reality."
   ]
  }
 ],
 "metadata": {
  "jupytext": {
   "main_language": "python"
  },
  "kernelspec": {
   "display_name": "Python 3 (ipykernel)",
   "language": "python",
   "name": "python3"
  },
  "language_info": {
   "codemirror_mode": {
    "name": "ipython",
    "version": 3
   },
   "file_extension": ".py",
   "mimetype": "text/x-python",
   "name": "python",
   "nbconvert_exporter": "python",
   "pygments_lexer": "ipython3",
   "version": "3.9.10"
  },
  "nbreset": "https://raw.githubusercontent.com/INRIA/scikit-learn-mooc/main/notebooks/cross_validation_grouping.ipynb"
 },
 "nbformat": 4,
 "nbformat_minor": 5
}
