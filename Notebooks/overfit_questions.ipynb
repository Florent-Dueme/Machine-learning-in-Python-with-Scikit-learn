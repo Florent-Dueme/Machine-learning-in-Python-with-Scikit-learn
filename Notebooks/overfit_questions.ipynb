{
 "cells": [
  {
   "cell_type": "code",
   "execution_count": 1,
   "metadata": {},
   "outputs": [],
   "source": [
    "import pandas as pd\n",
    "\n",
    "blood_transfusion = pd.read_csv(\"../datasets/blood_transfusion.csv\")\n",
    "target_name = \"Class\"\n",
    "data = blood_transfusion.drop(columns=target_name)\n",
    "target = blood_transfusion[target_name]"
   ]
  },
  {
   "cell_type": "code",
   "execution_count": 2,
   "metadata": {},
   "outputs": [
    {
     "data": {
      "text/plain": [
       "not donated    570\n",
       "donated        178\n",
       "Name: Class, dtype: int64"
      ]
     },
     "execution_count": 2,
     "metadata": {},
     "output_type": "execute_result"
    }
   ],
   "source": [
    "target.value_counts()"
   ]
  },
  {
   "cell_type": "code",
   "execution_count": 3,
   "metadata": {},
   "outputs": [
    {
     "data": {
      "text/plain": [
       "0.7620320855614974"
      ]
     },
     "execution_count": 3,
     "metadata": {},
     "output_type": "execute_result"
    }
   ],
   "source": [
    "from sklearn.dummy import DummyClassifier\n",
    "\n",
    "dummy = DummyClassifier(strategy=\"most_frequent\")\n",
    "\n",
    "dummy.fit(data, target)\n",
    "\n",
    "dummy.score(data, target)"
   ]
  },
  {
   "cell_type": "code",
   "execution_count": 4,
   "metadata": {},
   "outputs": [
    {
     "data": {
      "text/plain": [
       "0.5"
      ]
     },
     "execution_count": 4,
     "metadata": {},
     "output_type": "execute_result"
    }
   ],
   "source": [
    "from sklearn.model_selection import cross_val_score\n",
    "\n",
    "# cross_val_score?\n",
    "\n",
    "score = cross_val_score(dummy, data, target, scoring=\"balanced_accuracy\")\n",
    "score.mean()"
   ]
  },
  {
   "cell_type": "code",
   "execution_count": 12,
   "metadata": {},
   "outputs": [],
   "source": [
    "from sklearn.preprocessing import StandardScaler\n",
    "from sklearn.neighbors import KNeighborsClassifier\n",
    "from sklearn.pipeline import make_pipeline\n",
    "\n",
    "model = make_pipeline(StandardScaler(), KNeighborsClassifier())"
   ]
  },
  {
   "cell_type": "code",
   "execution_count": 6,
   "metadata": {},
   "outputs": [
    {
     "data": {
      "text/html": [
       "<style>#sk-d9c3a8b2-47c4-4a1b-8436-6d6a69ca92a3 {color: black;background-color: white;}#sk-d9c3a8b2-47c4-4a1b-8436-6d6a69ca92a3 pre{padding: 0;}#sk-d9c3a8b2-47c4-4a1b-8436-6d6a69ca92a3 div.sk-toggleable {background-color: white;}#sk-d9c3a8b2-47c4-4a1b-8436-6d6a69ca92a3 label.sk-toggleable__label {cursor: pointer;display: block;width: 100%;margin-bottom: 0;padding: 0.3em;box-sizing: border-box;text-align: center;}#sk-d9c3a8b2-47c4-4a1b-8436-6d6a69ca92a3 label.sk-toggleable__label-arrow:before {content: \"▸\";float: left;margin-right: 0.25em;color: #696969;}#sk-d9c3a8b2-47c4-4a1b-8436-6d6a69ca92a3 label.sk-toggleable__label-arrow:hover:before {color: black;}#sk-d9c3a8b2-47c4-4a1b-8436-6d6a69ca92a3 div.sk-estimator:hover label.sk-toggleable__label-arrow:before {color: black;}#sk-d9c3a8b2-47c4-4a1b-8436-6d6a69ca92a3 div.sk-toggleable__content {max-height: 0;max-width: 0;overflow: hidden;text-align: left;background-color: #f0f8ff;}#sk-d9c3a8b2-47c4-4a1b-8436-6d6a69ca92a3 div.sk-toggleable__content pre {margin: 0.2em;color: black;border-radius: 0.25em;background-color: #f0f8ff;}#sk-d9c3a8b2-47c4-4a1b-8436-6d6a69ca92a3 input.sk-toggleable__control:checked~div.sk-toggleable__content {max-height: 200px;max-width: 100%;overflow: auto;}#sk-d9c3a8b2-47c4-4a1b-8436-6d6a69ca92a3 input.sk-toggleable__control:checked~label.sk-toggleable__label-arrow:before {content: \"▾\";}#sk-d9c3a8b2-47c4-4a1b-8436-6d6a69ca92a3 div.sk-estimator input.sk-toggleable__control:checked~label.sk-toggleable__label {background-color: #d4ebff;}#sk-d9c3a8b2-47c4-4a1b-8436-6d6a69ca92a3 div.sk-label input.sk-toggleable__control:checked~label.sk-toggleable__label {background-color: #d4ebff;}#sk-d9c3a8b2-47c4-4a1b-8436-6d6a69ca92a3 input.sk-hidden--visually {border: 0;clip: rect(1px 1px 1px 1px);clip: rect(1px, 1px, 1px, 1px);height: 1px;margin: -1px;overflow: hidden;padding: 0;position: absolute;width: 1px;}#sk-d9c3a8b2-47c4-4a1b-8436-6d6a69ca92a3 div.sk-estimator {font-family: monospace;background-color: #f0f8ff;border: 1px dotted black;border-radius: 0.25em;box-sizing: border-box;margin-bottom: 0.5em;}#sk-d9c3a8b2-47c4-4a1b-8436-6d6a69ca92a3 div.sk-estimator:hover {background-color: #d4ebff;}#sk-d9c3a8b2-47c4-4a1b-8436-6d6a69ca92a3 div.sk-parallel-item::after {content: \"\";width: 100%;border-bottom: 1px solid gray;flex-grow: 1;}#sk-d9c3a8b2-47c4-4a1b-8436-6d6a69ca92a3 div.sk-label:hover label.sk-toggleable__label {background-color: #d4ebff;}#sk-d9c3a8b2-47c4-4a1b-8436-6d6a69ca92a3 div.sk-serial::before {content: \"\";position: absolute;border-left: 1px solid gray;box-sizing: border-box;top: 2em;bottom: 0;left: 50%;}#sk-d9c3a8b2-47c4-4a1b-8436-6d6a69ca92a3 div.sk-serial {display: flex;flex-direction: column;align-items: center;background-color: white;padding-right: 0.2em;padding-left: 0.2em;}#sk-d9c3a8b2-47c4-4a1b-8436-6d6a69ca92a3 div.sk-item {z-index: 1;}#sk-d9c3a8b2-47c4-4a1b-8436-6d6a69ca92a3 div.sk-parallel {display: flex;align-items: stretch;justify-content: center;background-color: white;}#sk-d9c3a8b2-47c4-4a1b-8436-6d6a69ca92a3 div.sk-parallel::before {content: \"\";position: absolute;border-left: 1px solid gray;box-sizing: border-box;top: 2em;bottom: 0;left: 50%;}#sk-d9c3a8b2-47c4-4a1b-8436-6d6a69ca92a3 div.sk-parallel-item {display: flex;flex-direction: column;position: relative;background-color: white;}#sk-d9c3a8b2-47c4-4a1b-8436-6d6a69ca92a3 div.sk-parallel-item:first-child::after {align-self: flex-end;width: 50%;}#sk-d9c3a8b2-47c4-4a1b-8436-6d6a69ca92a3 div.sk-parallel-item:last-child::after {align-self: flex-start;width: 50%;}#sk-d9c3a8b2-47c4-4a1b-8436-6d6a69ca92a3 div.sk-parallel-item:only-child::after {width: 0;}#sk-d9c3a8b2-47c4-4a1b-8436-6d6a69ca92a3 div.sk-dashed-wrapped {border: 1px dashed gray;margin: 0 0.4em 0.5em 0.4em;box-sizing: border-box;padding-bottom: 0.4em;background-color: white;position: relative;}#sk-d9c3a8b2-47c4-4a1b-8436-6d6a69ca92a3 div.sk-label label {font-family: monospace;font-weight: bold;background-color: white;display: inline-block;line-height: 1.2em;}#sk-d9c3a8b2-47c4-4a1b-8436-6d6a69ca92a3 div.sk-label-container {position: relative;z-index: 2;text-align: center;}#sk-d9c3a8b2-47c4-4a1b-8436-6d6a69ca92a3 div.sk-container {/* jupyter's `normalize.less` sets `[hidden] { display: none; }` but bootstrap.min.css set `[hidden] { display: none !important; }` so we also need the `!important` here to be able to override the default hidden behavior on the sphinx rendered scikit-learn.org. See: https://github.com/scikit-learn/scikit-learn/issues/21755 */display: inline-block !important;position: relative;}#sk-d9c3a8b2-47c4-4a1b-8436-6d6a69ca92a3 div.sk-text-repr-fallback {display: none;}</style><div id=\"sk-d9c3a8b2-47c4-4a1b-8436-6d6a69ca92a3\" class=\"sk-top-container\"><div class=\"sk-text-repr-fallback\"><pre>Pipeline(steps=[(&#x27;standardscaler&#x27;, StandardScaler()),\n",
       "                (&#x27;kneighborsclassifier&#x27;, KNeighborsClassifier(n_neighbors=1))])</pre><b>Please rerun this cell to show the HTML repr or trust the notebook.</b></div><div class=\"sk-container\" hidden><div class=\"sk-item sk-dashed-wrapped\"><div class=\"sk-label-container\"><div class=\"sk-label sk-toggleable\"><input class=\"sk-toggleable__control sk-hidden--visually\" id=\"3bc3341e-4438-48da-ae0d-dd20dd6e1b46\" type=\"checkbox\" ><label for=\"3bc3341e-4438-48da-ae0d-dd20dd6e1b46\" class=\"sk-toggleable__label sk-toggleable__label-arrow\">Pipeline</label><div class=\"sk-toggleable__content\"><pre>Pipeline(steps=[(&#x27;standardscaler&#x27;, StandardScaler()),\n",
       "                (&#x27;kneighborsclassifier&#x27;, KNeighborsClassifier(n_neighbors=1))])</pre></div></div></div><div class=\"sk-serial\"><div class=\"sk-item\"><div class=\"sk-estimator sk-toggleable\"><input class=\"sk-toggleable__control sk-hidden--visually\" id=\"a8eb6bec-470c-477f-85ec-b9d6700b4073\" type=\"checkbox\" ><label for=\"a8eb6bec-470c-477f-85ec-b9d6700b4073\" class=\"sk-toggleable__label sk-toggleable__label-arrow\">StandardScaler</label><div class=\"sk-toggleable__content\"><pre>StandardScaler()</pre></div></div></div><div class=\"sk-item\"><div class=\"sk-estimator sk-toggleable\"><input class=\"sk-toggleable__control sk-hidden--visually\" id=\"ffc8be57-d3dd-4a6a-b0de-2ba44f1ec77d\" type=\"checkbox\" ><label for=\"ffc8be57-d3dd-4a6a-b0de-2ba44f1ec77d\" class=\"sk-toggleable__label sk-toggleable__label-arrow\">KNeighborsClassifier</label><div class=\"sk-toggleable__content\"><pre>KNeighborsClassifier(n_neighbors=1)</pre></div></div></div></div></div></div></div>"
      ],
      "text/plain": [
       "Pipeline(steps=[('standardscaler', StandardScaler()),\n",
       "                ('kneighborsclassifier', KNeighborsClassifier(n_neighbors=1))])"
      ]
     },
     "execution_count": 6,
     "metadata": {},
     "output_type": "execute_result"
    }
   ],
   "source": [
    "from sklearn import set_config\n",
    "set_config(display='diagram')\n",
    "model"
   ]
  },
  {
   "cell_type": "code",
   "execution_count": 7,
   "metadata": {},
   "outputs": [
    {
     "data": {
      "text/plain": [
       "{'memory': None,\n",
       " 'steps': [('standardscaler', StandardScaler()),\n",
       "  ('kneighborsclassifier', KNeighborsClassifier(n_neighbors=1))],\n",
       " 'verbose': False,\n",
       " 'standardscaler': StandardScaler(),\n",
       " 'kneighborsclassifier': KNeighborsClassifier(n_neighbors=1),\n",
       " 'standardscaler__copy': True,\n",
       " 'standardscaler__with_mean': True,\n",
       " 'standardscaler__with_std': True,\n",
       " 'kneighborsclassifier__algorithm': 'auto',\n",
       " 'kneighborsclassifier__leaf_size': 30,\n",
       " 'kneighborsclassifier__metric': 'minkowski',\n",
       " 'kneighborsclassifier__metric_params': None,\n",
       " 'kneighborsclassifier__n_jobs': None,\n",
       " 'kneighborsclassifier__n_neighbors': 1,\n",
       " 'kneighborsclassifier__p': 2,\n",
       " 'kneighborsclassifier__weights': 'uniform'}"
      ]
     },
     "execution_count": 7,
     "metadata": {},
     "output_type": "execute_result"
    }
   ],
   "source": [
    "model.get_params()"
   ]
  },
  {
   "cell_type": "code",
   "execution_count": 8,
   "metadata": {},
   "outputs": [
    {
     "data": {
      "text/plain": [
       "{'fit_time': array([0.00554228, 0.00470161, 0.0043447 , 0.00639677, 0.00481558,\n",
       "        0.00464082, 0.00435472, 0.00436354, 0.00422049, 0.00414562]),\n",
       " 'score_time': array([0.00495172, 0.00526595, 0.00434184, 0.00626993, 0.00462389,\n",
       "        0.00445938, 0.00431919, 0.00437665, 0.00405478, 0.00393391]),\n",
       " 'test_score': array([0.34666667, 0.57333333, 0.72      , 0.41333333, 0.58666667,\n",
       "        0.66666667, 0.62666667, 0.74666667, 0.55405405, 0.74324324]),\n",
       " 'train_score': array([0.92570579, 0.93759287, 0.93164933, 0.93610698, 0.93610698,\n",
       "        0.90044577, 0.91827637, 0.90936107, 0.89614243, 0.91988131])}"
      ]
     },
     "execution_count": 8,
     "metadata": {},
     "output_type": "execute_result"
    }
   ],
   "source": [
    "from sklearn.model_selection import cross_validate\n",
    "# cross_validate?\n",
    "\n",
    "scores = cross_validate(model, data, target, cv=10, return_train_score=True)\n",
    "scores"
   ]
  },
  {
   "cell_type": "code",
   "execution_count": 13,
   "metadata": {},
   "outputs": [],
   "source": [
    "from sklearn.model_selection import validation_curve\n",
    "\n",
    "neighbors_range = [1, 2, 5, 10, 20, 50, 100, 200, 500]\n",
    "\n",
    "train_scores, test_scores = validation_curve(\n",
    "    model, data, target, param_name='kneighborsclassifier__n_neighbors',\n",
    "    param_range=neighbors_range, cv=10, scoring=\"balanced_accuracy\", n_jobs=2)"
   ]
  },
  {
   "cell_type": "code",
   "execution_count": 14,
   "metadata": {},
   "outputs": [
    {
     "data": {
      "image/png": "[encoded data removed]",
      "text/plain": [
       "<Figure size 432x288 with 1 Axes>"
      ]
     },
     "metadata": {
      "needs_background": "light"
     },
     "output_type": "display_data"
    }
   ],
   "source": [
    "import matplotlib.pyplot as plt\n",
    "\n",
    "plt.plot(neighbors_range, train_scores.mean(axis=1), label=\"Training error\")\n",
    "plt.plot(neighbors_range, test_scores.mean(axis=1), label=\"Testing error\")\n",
    "plt.legend()\n",
    "\n",
    "plt.xlabel(\"Number of neighbors\")\n",
    "plt.ylabel(\"Balanced accuracy\")\n",
    "_ = plt.title(\"Validation curve for K nearest Neighbors Model\")"
   ]
  },
  {
   "cell_type": "code",
   "execution_count": null,
   "metadata": {},
   "outputs": [],
   "source": []
  }
 ],
 "metadata": {
  "kernelspec": {
   "display_name": "Python 3 (ipykernel)",
   "language": "python",
   "name": "python3"
  },
  "language_info": {
   "codemirror_mode": {
    "name": "ipython",
    "version": 3
   },
   "file_extension": ".py",
   "mimetype": "text/x-python",
   "name": "python",
   "nbconvert_exporter": "python",
   "pygments_lexer": "ipython3",
   "version": "3.9.10"
  }
 },
 "nbformat": 4,
 "nbformat_minor": 4
}
